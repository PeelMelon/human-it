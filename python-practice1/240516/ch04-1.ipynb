{
 "cells": [
  {
   "cell_type": "code",
   "execution_count": 1,
   "metadata": {},
   "outputs": [
    {
     "name": "stdout",
     "output_type": "stream",
     "text": [
      "Hello world\n"
     ]
    }
   ],
   "source": [
    "# 함수의 구조\n",
    "\n",
    "# 매개 변수는 생략이 가능\n",
    "# return 값도 생략이 가능\n",
    "# def 함수_이름(매개변수)\n",
    "#    수행할_문장1\n",
    "#    수행할_문장2\n",
    "\n",
    "# 함수의 예\n",
    "\n",
    "def test1():    # test1함수를 정의하라\n",
    "    print(\"Hello world\")\n",
    "\n",
    "test1()         # test1함수를 실행하라"
   ]
  },
  {
   "cell_type": "code",
   "execution_count": 2,
   "metadata": {},
   "outputs": [
    {
     "name": "stdout",
     "output_type": "stream",
     "text": [
      "Hello world1\n",
      "Hello world2\n"
     ]
    }
   ],
   "source": [
    "def test2():        # test2함수를 정의하라\n",
    "    print(\"Hello world1\")\n",
    "    print(\"Hello world2\")\n",
    "\n",
    "test2()             # test2함수를 실행하라"
   ]
  },
  {
   "cell_type": "code",
   "execution_count": 5,
   "metadata": {},
   "outputs": [
    {
     "name": "stdout",
     "output_type": "stream",
     "text": [
      "3\n",
      "7\n"
     ]
    }
   ],
   "source": [
    "def add(a, b):  # 인수a, b(매개변수) ,로 구분 할 수 있다. f(xy)='y'\n",
    "    return a + b # return 이 없으면 y가 없다.\n",
    "# 매개변수와 return 값이 있는 함수\n",
    "c = add(1, 2)\n",
    "print(c)\n",
    "\n",
    "a = 3\n",
    "b = 4\n",
    "c= add(a, b) # add(3, 4)의 리턴값을 c에 대입\n",
    "print(c)\n",
    "\n",
    "# 함수(클래스x) == 매소드(클래스)\n"
   ]
  },
  {
   "cell_type": "code",
   "execution_count": 6,
   "metadata": {},
   "outputs": [
    {
     "name": "stdout",
     "output_type": "stream",
     "text": [
      "7\n"
     ]
    }
   ],
   "source": [
    "def add(a, b):\n",
    "    result = a + b\n",
    "    return result\n",
    "\n",
    "# 번외 camel case\n",
    "#snake case __\n",
    "# 리턴 값을 받을 변수 = 함수 이름(입력인수1, 입력인수2)\n",
    "a = add(3, 4)\n",
    "print(a)"
   ]
  },
  {
   "cell_type": "code",
   "execution_count": 7,
   "metadata": {},
   "outputs": [
    {
     "name": "stdout",
     "output_type": "stream",
     "text": [
      "Hi\n",
      "Hello world\n",
      "None\n"
     ]
    }
   ],
   "source": [
    "# 입력값이 없는 함수\n",
    "# 리턴값을 받을 변수 = 함수 이름()\n",
    "def say():      # say는 변수, 문자열 아님\n",
    "    return \"Hi\" # 리턴은 문자열\n",
    "\n",
    "a = say()\n",
    "print(a)\n",
    "\n",
    "b = test1() # b를 실행해서 나온 hello world\n",
    "print(b)    # None"
   ]
  },
  {
   "cell_type": "code",
   "execution_count": 9,
   "metadata": {},
   "outputs": [
    {
     "name": "stdout",
     "output_type": "stream",
     "text": [
      "3, 4의 합은 7입니다.\n",
      "7\n"
     ]
    }
   ],
   "source": [
    "# 리턴 값이 없는 함수\n",
    "def add(a, b): \n",
    "    print(\"%d, %d의 합은 %d입니다.\" % (a, b, a+b))\n",
    "\n",
    "add(3, 4)\n",
    "print(c)"
   ]
  },
  {
   "cell_type": "code",
   "execution_count": 11,
   "metadata": {},
   "outputs": [
    {
     "name": "stdout",
     "output_type": "stream",
     "text": [
      "Hi\n"
     ]
    }
   ],
   "source": [
    "# 입력값도, 리턴값도 없는 함수(가장 간단한 함수)\n",
    "def say():\n",
    "    print('Hi')\n",
    "\n",
    "say()"
   ]
  },
  {
   "cell_type": "code",
   "execution_count": 15,
   "metadata": {},
   "outputs": [
    {
     "name": "stdout",
     "output_type": "stream",
     "text": [
      "4\n",
      "4\n",
      "-2\n"
     ]
    }
   ],
   "source": [
    "# 매개변수를 지정하여 호출하기\n",
    "def sub(a, b):\n",
    "    return a - b\n",
    "\n",
    "result = sub(a = 7, b = 3) # a에 7, b에 3을 전달\n",
    "print(result)\n",
    "\n",
    "result = sub(b = 3, a = 7) # 순서를 바꿔도 안바뀜\n",
    "print(result) # 4\n",
    "\n",
    "result = sub(b = 5, a = 3) # b에 5, a에 3을 전달\n",
    "print(result) # -2"
   ]
  },
  {
   "cell_type": "code",
   "execution_count": 16,
   "metadata": {},
   "outputs": [
    {
     "name": "stdout",
     "output_type": "stream",
     "text": [
      "3\n",
      "6\n",
      "55\n"
     ]
    }
   ],
   "source": [
    "# 입력값이 몇개가 될지 모를 때는 아래 같이 선언 및 정의\n",
    "\n",
    "# def 함수_이름(*매개변수):\n",
    "#    수행할 문장\n",
    "#    ...\n",
    "\n",
    "def add_many(*a1):  # 아스타리크가 중요 몇개가 올지 모름\n",
    "    result = 0        # sum\n",
    "    for i in a1: \n",
    "        result = result + i   #  * a1 에 입력받은 모든 값을 더한다.\n",
    "    return result\n",
    "\n",
    "a = add_many(1, 2)\n",
    "print(a)\n",
    "b = add_many(1, 2, 3)\n",
    "print(b)\n",
    "c = add_many(1, 2, 3, 4, 5, 6, 7, 8, 9, 10)\n",
    "print(c)"
   ]
  },
  {
   "cell_type": "code",
   "execution_count": 17,
   "metadata": {},
   "outputs": [
    {
     "name": "stdout",
     "output_type": "stream",
     "text": [
      "15\n",
      "120\n"
     ]
    }
   ],
   "source": [
    "def add_mul(choice, *args): \n",
    "    if choice == \"add\":     # 매개변수 choice에 \"add\"를 입력받았을 때\n",
    "        result = 0 \n",
    "        for i in args: \n",
    "            result = result + i \n",
    "    elif choice == \"mul\":   # 매개변수 choice에 \"mul\"을 입력받았을 때\n",
    "        result = 1 \n",
    "        for i in args: \n",
    "            result = result * i \n",
    "    return result \n",
    "\n",
    "result = add_mul('add', 1,2,3,4,5) # add 이므로 모두 더해주고\n",
    "print(result)       # 15\n",
    "\n",
    "result = add_mul('mul', 1,2,3,4,5) # mul 이므로 모두곱해줌\n",
    "print(result)       # 120\n",
    "\n",
    "def add_mul2(*args, choice): # 이렇게 사용해서는 안된다, * 가 뒤에 있어야\n",
    "    pass"
   ]
  },
  {
   "cell_type": "code",
   "execution_count": 20,
   "metadata": {},
   "outputs": [
    {
     "name": "stdout",
     "output_type": "stream",
     "text": [
      "{'a': 1}\n",
      "{'name': 'foo', 'age': 3}\n"
     ]
    }
   ],
   "source": [
    "# 키워드 매개 변수, kwangs\n",
    "def print_kwargs(**kwangs):\n",
    "    print(kwangs)\n",
    "\n",
    "print_kwargs(a = 1)\n",
    "print_kwargs(name='foo', age = 3)"
   ]
  },
  {
   "cell_type": "code",
   "execution_count": 24,
   "metadata": {},
   "outputs": [
    {
     "name": "stdout",
     "output_type": "stream",
     "text": [
      "<class 'tuple'>\n",
      "(7, 12)\n",
      "7\n",
      "12\n"
     ]
    }
   ],
   "source": [
    "# 함수의 리턴값은 언제나 하나의 자료형이다.(List, 숫자형 etc)\n",
    "def add_and_mul(a, b):\n",
    "    return a+b, a*b # 리턴값은 튜플\n",
    "\n",
    "result = add_and_mul(3, 4)\n",
    "print(type(result))\n",
    "print(result)\n",
    "\n",
    "result1, result2 = add_and_mul(3, 4)\n",
    "print(result1)\n",
    "print(result2)"
   ]
  },
  {
   "cell_type": "code",
   "execution_count": 26,
   "metadata": {},
   "outputs": [
    {
     "name": "stdout",
     "output_type": "stream",
     "text": [
      "5\n"
     ]
    }
   ],
   "source": [
    "# 항상 먼저 나오는 return이 나오면 함수는 종료가 된다.\n",
    "def add_and_mul(a,b): \n",
    "    return a+b \n",
    "    return a*b # 실행이 되지 않는다.\n",
    "\n",
    "result = add_and_mul(2, 3)\n",
    "print(result)"
   ]
  },
  {
   "cell_type": "code",
   "execution_count": 31,
   "metadata": {},
   "outputs": [
    {
     "name": "stdout",
     "output_type": "stream",
     "text": [
      "나의 별명은 타노스 입니다.\n",
      "나의 별명은 아이언맨 입니다.\n",
      "나의 별명은 앤트맨 입니다.\n"
     ]
    }
   ],
   "source": [
    "def say_nick(nick): \n",
    "    if nick == \"바보\": \n",
    "        return \n",
    "    print(\"나의 별명은 %s 입니다.\" % nick)\n",
    "\n",
    "say_nick(\"타노스\")\n",
    "say_nick(\"아이언맨\")\n",
    "say_nick(\"바보\")\n",
    "say_nick(\"앤트맨\")"
   ]
  },
  {
   "cell_type": "code",
   "execution_count": 35,
   "metadata": {},
   "outputs": [
    {
     "name": "stdout",
     "output_type": "stream",
     "text": [
      "나의 이름은 조영준 입니다.\n",
      "나이는 36살입니다.\n",
      "남자입니다.\n",
      "국적은 대한민국 입니다.\n",
      "나의 이름은 조영준 입니다.\n",
      "나이는 36살입니다.\n",
      "남자입니다.\n",
      "국적은 대한민국 입니다.\n",
      "나의 이름은 조영준 입니다.\n",
      "나이는 36살입니다.\n",
      "여자입니다.\n",
      "국적은 대한민국 입니다.\n"
     ]
    }
   ],
   "source": [
    "# 매개변수에 초기값 미리 설정하기\n",
    "def say_myself(name, age, man = True, country = \"대한민국\"): \n",
    "    print(\"나의 이름은 %s 입니다.\" % name) \n",
    "    print(\"나이는 %d살입니다.\" % age) \n",
    "    if man: \n",
    "        print(\"남자입니다.\")\n",
    "    else: \n",
    "        print(\"여자입니다.\")\n",
    "    print(\"국적은 %s 입니다.\" % country)\n",
    "\n",
    "say_myself(\"조영준\", 36)        # man의 매개 변수가 True로 설정\n",
    "say_myself(\"조영준\", 36, True)  # man의 매개 변수가 True로 overwrite\n",
    "say_myself(\"조영준\", 36, False)"
   ]
  },
  {
   "cell_type": "code",
   "execution_count": 2,
   "metadata": {},
   "outputs": [
    {
     "name": "stdout",
     "output_type": "stream",
     "text": [
      "나의 이름은 조영준 입니다.\n",
      "나이는 36살입니다.\n",
      "남자입니다.\n"
     ]
    }
   ],
   "source": [
    "# 매개변수 초기값 미리 설정시에 주의 할 점\n",
    "# 초기화하고 싶은 매개변수는 항상 뒤쪽에 놓아야 함, * 붙은 것도 뒤에\n",
    "\n",
    "# (*a, man = Ture) 경우 (man = Ture, *a)\n",
    "\n",
    "def say_myself(name, age, man=True): \n",
    "    print(\"나의 이름은 %s 입니다.\" % name) \n",
    "    print(\"나이는 %d살입니다.\" % age) \n",
    "    if man: \n",
    "        print(\"남자입니다.\") \n",
    "    else: \n",
    "        print(\"여자입니다.\")\n",
    "\n",
    "say_myself(\"조영준\", 36) # error # age 매개 변수가 뒤에 있을 때"
   ]
  },
  {
   "cell_type": "code",
   "execution_count": 37,
   "metadata": {},
   "outputs": [
    {
     "name": "stdout",
     "output_type": "stream",
     "text": [
      "1\n"
     ]
    }
   ],
   "source": [
    "# 함수 안에서 선언한 변수의 효력 범위\n",
    "\n",
    "a = 1 # 함수 밖의 변수\n",
    "def vartest(a):\n",
    "    a = a +1  # a 가 1일 경우 함수안의 a는 2가 됨\n",
    "\n",
    "vartest(a) # a 에 1이 들어감 \n",
    "print(a)   # 함수 밖의 a값이 들어감. 즉 1이 됨"
   ]
  },
  {
   "cell_type": "code",
   "execution_count": 39,
   "metadata": {},
   "outputs": [
    {
     "ename": "NameError",
     "evalue": "name 'z1' is not defined",
     "output_type": "error",
     "traceback": [
      "\u001b[1;31m---------------------------------------------------------------------------\u001b[0m",
      "\u001b[1;31mNameError\u001b[0m                                 Traceback (most recent call last)",
      "Cell \u001b[1;32mIn[39], line 6\u001b[0m\n\u001b[0;32m      4\u001b[0m \u001b[38;5;66;03m# z = 0\u001b[39;00m\n\u001b[0;32m      5\u001b[0m vartest(\u001b[38;5;241m3\u001b[39m)\n\u001b[1;32m----> 6\u001b[0m \u001b[38;5;28mprint\u001b[39m(z1)\n",
      "\u001b[1;31mNameError\u001b[0m: name 'z1' is not defined"
     ]
    }
   ],
   "source": [
    "def vartest(z1):\n",
    "    z1 = z1 + 1\n",
    "\n",
    "# z1 = 0\n",
    "vartest(3) # error가 아니다.\n",
    "print(z1)  # error"
   ]
  },
  {
   "cell_type": "code",
   "execution_count": 40,
   "metadata": {},
   "outputs": [
    {
     "name": "stdout",
     "output_type": "stream",
     "text": [
      "2\n"
     ]
    }
   ],
   "source": [
    "# 함수 안에서 함수 밖의 변수를 변경하는 방법 -> 비추천 (헷갈려서 사수한테 혼남)\n",
    "# 1. return 사용하여 함수 밖의 변수와 안의 변수를 동기화 시킴\n",
    "\n",
    "a = 1           # 함수 밖의 변수 a\n",
    "def vartest(a): # 함수 안의 변수 a\n",
    "    a = a +1 \n",
    "    return a\n",
    "\n",
    "a = vartest(a) \n",
    "print(a)"
   ]
  },
  {
   "cell_type": "code",
   "execution_count": 41,
   "metadata": {},
   "outputs": [
    {
     "name": "stdout",
     "output_type": "stream",
     "text": [
      "2\n"
     ]
    }
   ],
   "source": [
    "# global 명령어 사용하기 -> 비추천\n",
    "z2 = 1 \n",
    "def vartest(): \n",
    "    global z2    # 함수 밖의 a를 가리킴\n",
    "    z2 = z2 + 1\n",
    "\n",
    "vartest() \n",
    "print(z2)       # 먼저 선언을 하지 않으면 error가 난다."
   ]
  },
  {
   "cell_type": "code",
   "execution_count": 42,
   "metadata": {},
   "outputs": [
    {
     "name": "stdout",
     "output_type": "stream",
     "text": [
      "7\n"
     ]
    }
   ],
   "source": [
    "# lambda 예약어    # 함수를 한줄로 만들때 쓴다.\n",
    "# 함수_이름 = lamda 매개변수1, 매개변수2, ... : 매개변수를 이용한 표현식\n",
    "add = lambda a, b: a+b # add라는 람다(lamda) 함수 생성\n",
    "result = add(3,4)\n",
    "print(result)"
   ]
  },
  {
   "cell_type": "code",
   "execution_count": 47,
   "metadata": {},
   "outputs": [
    {
     "name": "stdout",
     "output_type": "stream",
     "text": [
      "30\n"
     ]
    }
   ],
   "source": [
    "# 문제1\n",
    "# 괄호안 인자 number1, number2를 입력값으로 받아 result=(num1+num2)수행\n",
    "# 결과값 result를 반환 한 후 종료하는 이름이 average라는 함수 정의\n",
    "number1 = 10\n",
    "number2 = 20\n",
    "def average(number1, number2):\n",
    "    result = number1 + number2\n",
    "    return result\n",
    "\n",
    "print(average(number1, number2))"
   ]
  },
  {
   "cell_type": "code",
   "execution_count": 63,
   "metadata": {},
   "outputs": [
    {
     "data": {
      "text/plain": [
       "3"
      ]
     },
     "execution_count": 63,
     "metadata": {},
     "output_type": "execute_result"
    }
   ],
   "source": [
    "# 문제1 풀이\n",
    "def average1(number1, number2):\n",
    "    result = (number1 + number2)\n",
    "    return result\n",
    "\n",
    "average1(1, 2)"
   ]
  },
  {
   "cell_type": "code",
   "execution_count": 60,
   "metadata": {},
   "outputs": [
    {
     "name": "stdout",
     "output_type": "stream",
     "text": [
      "1\n",
      "2\n",
      "3\n"
     ]
    }
   ],
   "source": [
    "# 문제2\n",
    "# 실행문의 결과 예측\n",
    "def print_list(num_list):\n",
    "    for n in num_list:\n",
    "        if(n != 0):\n",
    "            print(n)\n",
    "        else:\n",
    "            break\n",
    "\n",
    "print_list([1,2,3,0])"
   ]
  },
  {
   "cell_type": "code",
   "execution_count": null,
   "metadata": {},
   "outputs": [],
   "source": [
    "# 문제3 다음 소스 코드를 완성하여 가장 높은 점수가 출력되게 하는 get_max_score함수를 만드시오\n",
    "\n",
    "# korean, english, mathematics, science = 100, 86, 81, 91\n",
    "# max_score = get_max_score(korean, english, mathematics, science)\n",
    "\n",
    "# print('높은 점수:', max_score)\n",
    "# 높은 점수: 100\n",
    "\n",
    "# max_score = get_max_score(english, science)\n",
    "# print('높은 점수:', max_score)\n",
    "# 높은 점수: 91"
   ]
  },
  {
   "cell_type": "code",
   "execution_count": 59,
   "metadata": {},
   "outputs": [
    {
     "name": "stdout",
     "output_type": "stream",
     "text": [
      "높은 점수: 100\n",
      "높은 점수: 91\n"
     ]
    }
   ],
   "source": [
    "korean, english, mathematics, science = 100, 86, 81, 91\n",
    "max_score = (korean, english, mathematics, science)\n",
    "\n",
    "def get_max_score(*score):\n",
    "    return max(score)\n",
    "\n",
    "max_score = get_max_score(korean, english, mathematics, science)\n",
    "print('높은 점수:', max_score)  # 높은 점수: 100\n",
    "\n",
    "max_score = get_max_score(english, science)\n",
    "print('높은 점수:', max_score)  # 높은 점수: 91\n"
   ]
  },
  {
   "cell_type": "code",
   "execution_count": 65,
   "metadata": {},
   "outputs": [
    {
     "name": "stdout",
     "output_type": "stream",
     "text": [
      "높은 점수: 100\n",
      "높은 점수: 91\n",
      "3\n"
     ]
    }
   ],
   "source": [
    "korean, english, mathematics, science = 100, 86, 81, 91\n",
    "max_score = (korean, english, mathematics, science)\n",
    "\n",
    "def get_max_score(*args):\n",
    "    return max(args)\n",
    "\n",
    "max_score = get_max_score(korean, english, mathematics, science)\n",
    "print('높은 점수:', max_score)  # 높은 점수: 100\n",
    "\n",
    "max_score = get_max_score(english, science)\n",
    "print('높은 점수:', max_score)  # 높은 점수: 91\n",
    "\n",
    "print(max([1,2,3]))"
   ]
  },
  {
   "cell_type": "code",
   "execution_count": null,
   "metadata": {},
   "outputs": [],
   "source": [
    "# 문제3-2\n",
    "def get_max_score(*scores):\n",
    "    max_score = scores[0]  \n",
    "    for score in scores:\n",
    "        if score > max_score:\n",
    "            max_score = score  \n",
    "    return max_score\n",
    "\n",
    "korean, english, mathematics, science = 100, 86, 81, 91\n",
    "\n",
    "max_score = get_max_score(korean, english, mathematics, science)\n",
    "print('높은 점수:', max_score)  # 높은 점수: 100\n",
    "\n",
    "max_score = get_max_score(english, science)\n",
    "print('높은 점수:', max_score)  # 높은 점수: 91"
   ]
  },
  {
   "cell_type": "code",
   "execution_count": null,
   "metadata": {},
   "outputs": [],
   "source": [
    "def get_min_score(*args):\n",
    "    for item in args[0]\n",
    "    if init"
   ]
  },
  {
   "cell_type": "code",
   "execution_count": null,
   "metadata": {},
   "outputs": [],
   "source": [
    "# 문제4\n",
    "# 양의 정수 n을 입력하면 1부터 n까지 곱해주는 factorial 함수를 만들어 보세요.\n",
    "# 출력 예시 -> x가 1일때 1, x가 2일때 2, x가 3일 때 6, x가 4일 때 24, ..."
   ]
  },
  {
   "cell_type": "code",
   "execution_count": 14,
   "metadata": {},
   "outputs": [
    {
     "name": "stdout",
     "output_type": "stream",
     "text": [
      "6\n",
      "24\n"
     ]
    }
   ],
   "source": [
    "# 문제4 풀이\n",
    "# 4! = 4 * 3 * 2* 1\n",
    "# 5! = 5 * 4 * 3 * 1\n",
    "def factorial(x):\n",
    "    result = 1\n",
    "    for i in range(1, x + 1):   # 1 ~ x\n",
    "        result = result * i    # x * (x - 1) ... * 1\n",
    "\n",
    "    return result\n",
    "\n",
    "print(factorial(3))\n",
    "print(factorial(4))"
   ]
  },
  {
   "cell_type": "code",
   "execution_count": 15,
   "metadata": {},
   "outputs": [
    {
     "name": "stdout",
     "output_type": "stream",
     "text": [
      "1\n",
      "2\n",
      "3\n",
      "4\n",
      "5\n"
     ]
    }
   ],
   "source": [
    "my_list = [1, 2, 3, 4, 5]\n",
    "for item in my_list:\n",
    "    print(item)"
   ]
  },
  {
   "cell_type": "code",
   "execution_count": 17,
   "metadata": {},
   "outputs": [],
   "source": [
    "#문제4-2\n",
    "min_score = (korean, english, mathematics, science)\n",
    "korean, english, mathematics, science = 100, 86, 81, 91\n",
    "\n",
    "\n",
    "init1 = 0\n",
    "def get_min_score(*args):\n",
    "    for item in args:\n",
    "        if init1 < item:\n",
    "            init1 = item\n",
    "\n",
    "    return init1\n",
    "\n",
    "def get_max_score(*args):\n",
    "    return max(args)"
   ]
  },
  {
   "cell_type": "code",
   "execution_count": null,
   "metadata": {},
   "outputs": [],
   "source": [
    "# 문제5\n",
    "# 서울 기준 춘천, 부산, 대구, 수원으로 가는 기차표를 예매하는 프로그램 작성\n",
    "# 각 도시 당 5000원, 30000원, 10000원, 2000원의 비용이 든다.\n",
    "# 도시 이름을 입력하면 금액을 결정하고 출력해주는 함수\n",
    "\n",
    "def cost(city):\n",
    "    dic = {'춘천':5000, '부산':30000, '대구':10000, '수원':2000}\n",
    "\n",
    "city = input(\"춘천(운임 : 5000원) / 부산(운임 : 30000원) / 대구(운임 : 10000원) /수원(운임 : 2000원) \\n중 한곳을 입력하세요\")\n",
    "cost(city)\n",
    "\n",
    "\n"
   ]
  },
  {
   "cell_type": "code",
   "execution_count": 25,
   "metadata": {},
   "outputs": [
    {
     "name": "stdout",
     "output_type": "stream",
     "text": [
      "부산 까지의 금액은 30000 입니다.\n"
     ]
    }
   ],
   "source": [
    "# 문제5 풀이\n",
    "\n",
    "def cost(city):\n",
    "    dic = {'춘천':5000, '부산':30000, '대구':10000, '수원':2000} # 이름이 있는 인덱스\n",
    "    #if city in dic:\n",
    "    #    return dic.get(city)\n",
    "    print(city,\"까지의 금액은\",dic[city],\"입니다.\") # 딕셔너리의 특징이므로 바로 쓸 수 있었음.\n",
    "\n",
    "\n",
    "city = input(\"춘천(운임 : 5000원) / 부산(운임 : 30000원) / 대구(운임 : 10000원) /수원(운임 : 2000원) \\n중 한곳을 입력하세요\")\n",
    "cost(city)\n",
    "\n"
   ]
  },
  {
   "cell_type": "code",
   "execution_count": 27,
   "metadata": {},
   "outputs": [],
   "source": [
    "# 문제 6\n",
    "# 회사의 한 부서에서 출근 여부를 입력하는 프로그램을 만들려고 한다.\n",
    "# 출근한 사람이 본인의 이름을 입력하면 출근이 완료되었다고 출력해주는 함수를 작성해보자.\n",
    "\n",
    "def check(name):\n",
    "    list = ['suzi', 'jisu', 'jennie', 'rose', 'lisa']\n",
    "    # 코드 작성\n",
    "    if name in list:\n",
    "        print(\"출근이 완료되었습니다.\")\n",
    "    else :\n",
    "        print(\"출근이 불가합니다.\")\n",
    "\n",
    "while(True):\n",
    "    name = input('이름을 입력하세요 : ')\n",
    "    if name == \"바이바이\":\n",
    "        break\n",
    "    check(name)\n",
    "\n",
    "#이름을 입력하세요 : suzi\n",
    "#출근 완료되었습니다.\n",
    "\n",
    "#이름을 입력하세요 : jin\n",
    "#출근이 불가합니다.\n"
   ]
  },
  {
   "cell_type": "code",
   "execution_count": 28,
   "metadata": {},
   "outputs": [
    {
     "name": "stdout",
     "output_type": "stream",
     "text": [
      "18\n"
     ]
    }
   ],
   "source": [
    "# 문제7\n",
    "# 사각형의 둘레를 구하는 함수를 작성해보고, 두변의 길이가 각각 3과 6인 사각형의 둘레를 출력해보자.\n",
    "def circle(a,b):\n",
    "    # 코드 작성\n",
    "    return (a + b) *2\n",
    "\n",
    "print(circle(3,6))"
   ]
  },
  {
   "cell_type": "code",
   "execution_count": null,
   "metadata": {},
   "outputs": [],
   "source": []
  }
 ],
 "metadata": {
  "kernelspec": {
   "display_name": "base",
   "language": "python",
   "name": "python3"
  },
  "language_info": {
   "codemirror_mode": {
    "name": "ipython",
    "version": 3
   },
   "file_extension": ".py",
   "mimetype": "text/x-python",
   "name": "python",
   "nbconvert_exporter": "python",
   "pygments_lexer": "ipython3",
   "version": "3.11.7"
  }
 },
 "nbformat": 4,
 "nbformat_minor": 2
}
