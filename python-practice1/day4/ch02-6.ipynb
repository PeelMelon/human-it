{
 "cells": [
  {
   "cell_type": "code",
   "execution_count": 4,
   "metadata": {},
   "outputs": [
    {
     "name": "stdout",
     "output_type": "stream",
     "text": [
      "{1, 2, 3}\n"
     ]
    }
   ],
   "source": [
    "# 집합(set) 중복을 허용 하지 않는다.\n",
    "s1 = set((1, 2, 3))\n",
    "s1\n",
    "s2 = {1, 2, 3}\n",
    "print(s2)\n"
   ]
  },
  {
   "cell_type": "code",
   "execution_count": 5,
   "metadata": {},
   "outputs": [
    {
     "data": {
      "text/plain": [
       "{'e', 'h', 'l', 'o'}"
      ]
     },
     "execution_count": 5,
     "metadata": {},
     "output_type": "execute_result"
    }
   ],
   "source": [
    "s2 = set('hello')\n",
    "s2"
   ]
  },
  {
   "cell_type": "code",
   "execution_count": 7,
   "metadata": {},
   "outputs": [
    {
     "name": "stdout",
     "output_type": "stream",
     "text": [
      "{1, 2, 3}\n",
      "(1, 2, 2, 3)\n"
     ]
    }
   ],
   "source": [
    "s2 = {1, 2, 2, 3}\n",
    "print(s2)\n",
    "s3 = (1, 2, 2, 3)\n",
    "print(s3)"
   ]
  },
  {
   "cell_type": "code",
   "execution_count": 8,
   "metadata": {},
   "outputs": [
    {
     "data": {
      "text/plain": [
       "1"
      ]
     },
     "execution_count": 8,
     "metadata": {},
     "output_type": "execute_result"
    }
   ],
   "source": [
    "s3[0]"
   ]
  },
  {
   "cell_type": "code",
   "execution_count": 19,
   "metadata": {},
   "outputs": [
    {
     "name": "stdout",
     "output_type": "stream",
     "text": [
      "1\n",
      "[1, 2, 3]\n"
     ]
    }
   ],
   "source": [
    "s2 = {1, 2, 2, 3}\n",
    "l2 = list(s2)\n",
    "\n",
    "l2\n",
    "print(l2[0])\n",
    "print(l2)"
   ]
  },
  {
   "cell_type": "code",
   "execution_count": 23,
   "metadata": {},
   "outputs": [],
   "source": [
    "s1 = set([1, 2, 3, 4, 5, 6])\n",
    "s2 = set([4, 5, 6, 7, 8, 9])"
   ]
  },
  {
   "cell_type": "code",
   "execution_count": 24,
   "metadata": {},
   "outputs": [
    {
     "name": "stdout",
     "output_type": "stream",
     "text": [
      "{4, 5, 6}\n"
     ]
    },
    {
     "data": {
      "text/plain": [
       "{4, 5, 6}"
      ]
     },
     "execution_count": 24,
     "metadata": {},
     "output_type": "execute_result"
    }
   ],
   "source": [
    "# 교집합 구하기\n",
    "s1 & s2\n",
    "print(s1 & s2)\n",
    "s1.intersection(s2)"
   ]
  },
  {
   "cell_type": "code",
   "execution_count": 26,
   "metadata": {},
   "outputs": [
    {
     "name": "stdout",
     "output_type": "stream",
     "text": [
      "{1, 2, 3, 4, 5, 6, 7, 8, 9}\n"
     ]
    },
    {
     "data": {
      "text/plain": [
       "{1, 2, 3, 4, 5, 6, 7, 8, 9}"
      ]
     },
     "execution_count": 26,
     "metadata": {},
     "output_type": "execute_result"
    }
   ],
   "source": [
    "# 합집합 구하기\n",
    "print(s1 | s2)\n",
    "s1.union(s2)"
   ]
  },
  {
   "cell_type": "code",
   "execution_count": 29,
   "metadata": {},
   "outputs": [
    {
     "name": "stdout",
     "output_type": "stream",
     "text": [
      "{1, 2, 3}\n",
      "{5, 6, 7, 8, 9}\n"
     ]
    },
    {
     "data": {
      "text/plain": [
       "{5, 6, 7, 8, 9}"
      ]
     },
     "execution_count": 29,
     "metadata": {},
     "output_type": "execute_result"
    }
   ],
   "source": [
    "# 차집합 구하기\n",
    "print(s1 - s2)    #s1 기준으로 s2 원소를 뺀다\n",
    "print(s2 - s1)    #s2 기준으로 s1 원소를 뺀다\n",
    "s1.difference(s2) #s1 기준으로 s2 원소를 뺀다\n",
    "s2.difference(s1) #s2 기준으로 s1 원소를 뺀다"
   ]
  },
  {
   "cell_type": "code",
   "execution_count": 28,
   "metadata": {},
   "outputs": [
    {
     "data": {
      "text/plain": [
       "{1, 2, 3, 4}"
      ]
     },
     "execution_count": 28,
     "metadata": {},
     "output_type": "execute_result"
    }
   ],
   "source": [
    "# 집합 자료형 관련 함수\n",
    "# .add함수 비슷한 것 :  append, insert\n",
    "s1 = set([1, 2, 3])\n",
    "s1.add(4)\n",
    "s1"
   ]
  },
  {
   "cell_type": "code",
   "execution_count": 31,
   "metadata": {},
   "outputs": [
    {
     "data": {
      "text/plain": [
       "{1, 2, 3, 4, 5, 6}"
      ]
     },
     "execution_count": 31,
     "metadata": {},
     "output_type": "execute_result"
    }
   ],
   "source": [
    "# 값 여러개 추가하기 - update\n",
    "s1 = set([1, 2, 3])\n",
    "s1.update([3, 4, 5, 6]) #3을 추가해도 중복허용이 되지 않아 리턴은 같다.\n",
    "s1"
   ]
  },
  {
   "cell_type": "code",
   "execution_count": 32,
   "metadata": {},
   "outputs": [
    {
     "data": {
      "text/plain": [
       "{1, 3}"
      ]
     },
     "execution_count": 32,
     "metadata": {},
     "output_type": "execute_result"
    }
   ],
   "source": [
    "# 특정 값 제거하기 - remove\n",
    "s1 = set([1, 2, 3])\n",
    "s1.remove(2) # 요소2를 제거\n",
    "s1"
   ]
  },
  {
   "cell_type": "code",
   "execution_count": 40,
   "metadata": {},
   "outputs": [
    {
     "name": "stdout",
     "output_type": "stream",
     "text": [
      "1\n"
     ]
    }
   ],
   "source": [
    "# 문제1 모든 응용 문제 # 13의 홀짝 판별\n",
    "a = 13\n",
    "# a % 2 나머지가 0인 것은 짝수 나머지가 1인 것은 홀수\n",
    "a = a % 2\n",
    "print(a)\n",
    "# 나머지가 1이므로 13은 홀수 이다."
   ]
  },
  {
   "cell_type": "code",
   "execution_count": 41,
   "metadata": {},
   "outputs": [
    {
     "data": {
      "text/plain": [
       "'1'"
      ]
     },
     "execution_count": 41,
     "metadata": {},
     "output_type": "execute_result"
    }
   ],
   "source": [
    "# 문제2 주민번호 뒷자리 앞번호는 성별이고 해당 숫자 출력\n",
    "cn = '880211-1345211'\n",
    "cn[7]\n",
    "# 출력숫자가 1"
   ]
  },
  {
   "cell_type": "code",
   "execution_count": 37,
   "metadata": {},
   "outputs": [
    {
     "name": "stdout",
     "output_type": "stream",
     "text": [
      "{1, 2, 3, 4, 5}\n",
      "[1, 2, 3, 4, 5]\n"
     ]
    }
   ],
   "source": [
    "# 문제3 a리스트에서 중복 숫자 제거\n",
    "a = [1, 1, 1, 2, 2, 3, 3, 3, 4, 4, 5]\n",
    "b = set(a)\n",
    "print(b)\n",
    "c = list(b)\n",
    "print(c)\n"
   ]
  },
  {
   "cell_type": "code",
   "execution_count": null,
   "metadata": {},
   "outputs": [],
   "source": []
  }
 ],
 "metadata": {
  "kernelspec": {
   "display_name": "base",
   "language": "python",
   "name": "python3"
  },
  "language_info": {
   "codemirror_mode": {
    "name": "ipython",
    "version": 3
   },
   "file_extension": ".py",
   "mimetype": "text/x-python",
   "name": "python",
   "nbconvert_exporter": "python",
   "pygments_lexer": "ipython3",
   "version": "3.11.7"
  }
 },
 "nbformat": 4,
 "nbformat_minor": 2
}
