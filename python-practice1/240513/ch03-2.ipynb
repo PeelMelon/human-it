{
 "cells": [
  {
   "cell_type": "code",
   "execution_count": 2,
   "metadata": {},
   "outputs": [
    {
     "name": "stdout",
     "output_type": "stream",
     "text": [
      "Helio World\n"
     ]
    }
   ],
   "source": [
    "print('Helio World')"
   ]
  },
  {
   "cell_type": "code",
   "execution_count": null,
   "metadata": {},
   "outputs": [],
   "source": [
    "# while문 학습 (반복문(interation)1)\n"
   ]
  },
  {
   "cell_type": "code",
   "execution_count": null,
   "metadata": {},
   "outputs": [],
   "source": [
    "# if 조건문\n",
    "#   수행할 문장1\n",
    "#   수행할 문장2\n",
    "#   수행할 문장3"
   ]
  },
  {
   "cell_type": "code",
   "execution_count": null,
   "metadata": {},
   "outputs": [],
   "source": [
    "# while 조건문:\n",
    "#    수행할_문장1\n",
    "#    수행할_문장2\n",
    "#    수행할_문장3  # 참이면 반복, 아니면 뒤로간다."
   ]
  },
  {
   "cell_type": "code",
   "execution_count": 4,
   "metadata": {},
   "outputs": [
    {
     "name": "stdout",
     "output_type": "stream",
     "text": [
      "나무를 1번 찍었습니다.\n",
      "나무를 2번 찍었습니다.\n",
      "나무를 3번 찍었습니다.\n",
      "나무를 4번 찍었습니다.\n",
      "나무를 5번 찍었습니다.\n",
      "나무를 6번 찍었습니다.\n",
      "나무를 7번 찍었습니다.\n",
      "나무를 8번 찍었습니다.\n",
      "나무를 9번 찍었습니다.\n",
      "나무를 10번 찍었습니다.\n",
      "나무 넘어갑니다\n"
     ]
    }
   ],
   "source": [
    "treeHit = 0\n",
    "while treeHit < 10:\n",
    "    treeHit = treeHit +1\n",
    "    print('나무를 %d번 찍었습니다.' % treeHit)\n",
    "    if treeHit == 10:\n",
    "        print('나무 넘어갑니다')"
   ]
  },
  {
   "cell_type": "code",
   "execution_count": 13,
   "metadata": {},
   "outputs": [],
   "source": [
    "prompt = \"\"\"\n",
    "1. Add\n",
    "2. Del\n",
    "3. List\n",
    "4. Quist\n",
    "\n",
    "Enter number: \"\"\"\n"
   ]
  },
  {
   "cell_type": "code",
   "execution_count": 14,
   "metadata": {},
   "outputs": [
    {
     "name": "stdout",
     "output_type": "stream",
     "text": [
      "\n",
      "1. Add\n",
      "2. Del\n",
      "3. List\n",
      "4. Quist\n",
      "\n",
      "Enter number: \n",
      "\n",
      "1. Add\n",
      "2. Del\n",
      "3. List\n",
      "4. Quist\n",
      "\n",
      "Enter number: \n"
     ]
    }
   ],
   "source": [
    "number = 0\n",
    "while number  != 4:\n",
    "    print(prompt)\n",
    "    number = int(input())\n",
    "    "
   ]
  },
  {
   "cell_type": "code",
   "execution_count": null,
   "metadata": {},
   "outputs": [],
   "source": [
    "1 # while 반복문 빠져나가기 방법\n",
    "# 1. while문의 조건식이 False 일 때\n",
    "# 2. break문을 활용하여 while문 빠져나가기\n",
    "\n",
    "# 0은 false 이므로 커피가 0이 될때까지 반복됨"
   ]
  },
  {
   "cell_type": "code",
   "execution_count": 34,
   "metadata": {},
   "outputs": [
    {
     "name": "stdout",
     "output_type": "stream",
     "text": [
      "커피를 줍니다.\n",
      "돈을 다시 돌려주고 커피를 주지 않습니다.\n",
      "남은 커피의 양은 -1개 입니다.\n",
      "커피를 줍니다.\n"
     ]
    },
    {
     "ename": "ValueError",
     "evalue": "invalid literal for int() with base 10: ''",
     "output_type": "error",
     "traceback": [
      "\u001b[1;31m---------------------------------------------------------------------------\u001b[0m",
      "\u001b[1;31mValueError\u001b[0m                                Traceback (most recent call last)",
      "Cell \u001b[1;32mIn[34], line 4\u001b[0m\n\u001b[0;32m      2\u001b[0m money2 \u001b[38;5;241m=\u001b[39m \u001b[38;5;241m300\u001b[39m\n\u001b[0;32m      3\u001b[0m \u001b[38;5;28;01mwhile\u001b[39;00m \u001b[38;5;28;01mTrue\u001b[39;00m:\n\u001b[1;32m----> 4\u001b[0m     money2 \u001b[38;5;241m=\u001b[39m \u001b[38;5;28mint\u001b[39m(\u001b[38;5;28minput\u001b[39m(\u001b[38;5;124m'\u001b[39m\u001b[38;5;124m돈을 넣어주세요:\u001b[39m\u001b[38;5;124m'\u001b[39m))\n\u001b[0;32m      5\u001b[0m     \u001b[38;5;28;01mif\u001b[39;00m money2 \u001b[38;5;241m==\u001b[39m \u001b[38;5;241m300\u001b[39m:\n\u001b[0;32m      6\u001b[0m         \u001b[38;5;28mprint\u001b[39m(\u001b[38;5;124m'\u001b[39m\u001b[38;5;124m커피를 줍니다.\u001b[39m\u001b[38;5;124m'\u001b[39m)\n",
      "\u001b[1;31mValueError\u001b[0m: invalid literal for int() with base 10: ''"
     ]
    }
   ],
   "source": [
    "coffee1 = 5\n",
    "money2 = 300\n",
    "while True:\n",
    "    money2 = int(input('돈을 넣어주세요:'))\n",
    "    if money2 == 300:\n",
    "        print('커피를 줍니다.')\n",
    "        coffee1 = -1\n",
    "    elif money > 300:\n",
    "        print('거스름돈 %d를 주고 커피를 줍니다.' % (money2 -300))\n",
    "        coffee1 = coffee1 -1\n",
    "    else:\n",
    "        print('돈을 다시 돌려주고 커피를 주지 않습니다.')\n",
    "        print('남은 커피의 양은 %d개 입니다.' % coffee1)\n",
    "\n",
    "    if coffee1 == 0: #2번 그룹\n",
    "        print('커피가 다 떨어졌습니다. 판매를 중지합니다.')\n",
    "        break"
   ]
  },
  {
   "cell_type": "code",
   "execution_count": 32,
   "metadata": {},
   "outputs": [
    {
     "name": "stdout",
     "output_type": "stream",
     "text": [
      "1\n",
      "3\n",
      "5\n",
      "7\n",
      "9\n"
     ]
    }
   ],
   "source": [
    "# while문의 맨 처음으로 돌아가기\n",
    "\n",
    "a = 0\n",
    "while a < 10:\n",
    "    a = a + 1\n",
    "    if a % 2 == 0:\n",
    "        continue\n",
    "    print(a)"
   ]
  },
  {
   "cell_type": "code",
   "execution_count": null,
   "metadata": {},
   "outputs": [],
   "source": [
    "# while문 무한루프 예시 # 하지 말것\n",
    "# while True: \n",
    "#   pirnt(수행할 문장)\n"
   ]
  },
  {
   "cell_type": "code",
   "execution_count": null,
   "metadata": {},
   "outputs": [],
   "source": [
    "# 문제1 \n",
    "# while 문 사용 1부터 1000까지 3의 배수 합 출력\n",
    "# hint : 3의 배수 3으로 나눴을 때 나머지 0\n",
    "\n",
    "a1 = 0\n",
    "while a1 < 1000:\n",
    "    a1 = a1 + 1\n",
    "    if a1 % 3 == 0:\n",
    "        print(a1)"
   ]
  },
  {
   "cell_type": "code",
   "execution_count": 76,
   "metadata": {},
   "outputs": [
    {
     "name": "stdout",
     "output_type": "stream",
     "text": [
      "3의배수의 합 0\n"
     ]
    }
   ],
   "source": [
    "# 문제1 풀이\n",
    "a = 0\n",
    "b = 0\n",
    "while a > 1001:\n",
    "    a += 1\n",
    "    if a % 3 == 0:\n",
    "        print('3의배수', a)\n",
    "        b += a\n",
    "print('3의배수의 합', b)\n"
   ]
  },
  {
   "cell_type": "code",
   "execution_count": 57,
   "metadata": {},
   "outputs": [
    {
     "name": "stdout",
     "output_type": "stream",
     "text": [
      "2\n",
      "4\n",
      "6\n",
      "8\n",
      "10\n",
      "12\n",
      "14\n",
      "16\n",
      "18\n",
      "20\n",
      "22\n",
      "24\n",
      "26\n",
      "28\n",
      "30\n",
      "32\n",
      "34\n",
      "36\n",
      "38\n",
      "40\n",
      "42\n",
      "44\n",
      "46\n",
      "48\n",
      "50\n",
      "52\n",
      "54\n",
      "56\n",
      "58\n",
      "60\n",
      "62\n",
      "64\n",
      "66\n",
      "68\n",
      "70\n",
      "72\n",
      "74\n",
      "76\n",
      "78\n",
      "80\n",
      "82\n",
      "84\n",
      "86\n",
      "88\n",
      "90\n",
      "92\n",
      "94\n",
      "96\n",
      "98\n",
      "100\n"
     ]
    }
   ],
   "source": [
    "# 문제2 # 1부터 100까지 짝수 출력\n",
    "a2 = 0\n",
    "while a2 < 100:\n",
    "    a2 = a2 + 1\n",
    "    if a2 % 2 == 0:\n",
    "        print(a2)"
   ]
  },
  {
   "cell_type": "code",
   "execution_count": 95,
   "metadata": {},
   "outputs": [
    {
     "name": "stdout",
     "output_type": "stream",
     "text": [
      "2\n",
      "4\n",
      "6\n",
      "8\n",
      "10\n",
      "12\n",
      "14\n",
      "16\n",
      "18\n",
      "20\n",
      "22\n",
      "24\n",
      "26\n",
      "28\n",
      "30\n",
      "32\n",
      "34\n",
      "36\n",
      "38\n",
      "40\n",
      "42\n",
      "44\n",
      "46\n",
      "48\n",
      "50\n",
      "52\n",
      "54\n",
      "56\n",
      "58\n",
      "60\n",
      "62\n",
      "64\n",
      "66\n",
      "68\n",
      "70\n",
      "72\n",
      "74\n",
      "76\n",
      "78\n",
      "80\n",
      "82\n",
      "84\n",
      "86\n",
      "88\n",
      "90\n",
      "92\n",
      "94\n",
      "96\n",
      "98\n",
      "100\n"
     ]
    }
   ],
   "source": [
    "# 문제2 풀이\n",
    "a2 = 1\n",
    "while a2 >= 1 and a2 <= 100:\n",
    "    a2 += 1\n",
    "    if a2 % 2 ==0:\n",
    "        print(a2)\n"
   ]
  },
  {
   "cell_type": "code",
   "execution_count": 87,
   "metadata": {},
   "outputs": [
    {
     "name": "stdout",
     "output_type": "stream",
     "text": [
      "115\n",
      "575\n"
     ]
    }
   ],
   "source": [
    "# 문제3 # while문을 사용하여 100이상 자연수중 가장 작은 23의 배수 출력 # 115를 출력\n",
    "a3 = 23\n",
    "while a3 < 139:\n",
    "    a3 = a3 * 5\n",
    "    print(a3)\n",
    "\n"
   ]
  },
  {
   "cell_type": "code",
   "execution_count": 85,
   "metadata": {},
   "outputs": [
    {
     "name": "stdout",
     "output_type": "stream",
     "text": [
      "115\n"
     ]
    }
   ],
   "source": [
    "# 문제3 풀이\n",
    "a = 100\n",
    "while a % 23 != 0:\n",
    "    a += 1\n",
    "print(a)\n"
   ]
  },
  {
   "cell_type": "code",
   "execution_count": 89,
   "metadata": {},
   "outputs": [
    {
     "name": "stdout",
     "output_type": "stream",
     "text": [
      "8\n",
      "16\n",
      "24\n",
      "32\n",
      "40\n",
      "48\n",
      "56\n",
      "64\n",
      "72\n",
      "80\n",
      "88\n",
      "96\n",
      "100\n"
     ]
    }
   ],
   "source": [
    "# 문제4 while문과 if문 사용 하여 100이하 자연수 8의배수이고 12의 배수 아닌것 출력\n",
    "a4 = 0\n",
    "while a4 < 100 :\n",
    "    a4 = a4 + 1\n",
    "    if a4 % 8 == 0:\n",
    "        print(a4)\n",
    "    else: a4 % 12 == 0\n",
    "print(a4)"
   ]
  },
  {
   "cell_type": "code",
   "execution_count": 90,
   "metadata": {},
   "outputs": [
    {
     "name": "stdout",
     "output_type": "stream",
     "text": [
      "8\n",
      "16\n",
      "32\n",
      "40\n",
      "56\n",
      "64\n",
      "80\n",
      "88\n"
     ]
    }
   ],
   "source": [
    "# 문제4 풀이\n",
    "a = 1\n",
    "while a < 101 :\n",
    "    a +=1\n",
    "    if a % 8 ==0 and a % 12 != 0: print(a)\n"
   ]
  },
  {
   "cell_type": "code",
   "execution_count": 114,
   "metadata": {},
   "outputs": [
    {
     "name": "stdout",
     "output_type": "stream",
     "text": [
      "333167\n"
     ]
    }
   ],
   "source": [
    "# 문제5 # 1000보다 작은 2, 3의 배수 합 # 333167 출력\n",
    "a5 = 1\n",
    "b5 = 0\n",
    "while a5 < 1000:\n",
    "    if a5 % 2 == 0 or a5 % 3 == 0:\n",
    "        b5 = b5 + a5\n",
    "    a5 = a5 + 1\n",
    "print(b5)"
   ]
  },
  {
   "cell_type": "code",
   "execution_count": 127,
   "metadata": {},
   "outputs": [
    {
     "name": "stdout",
     "output_type": "stream",
     "text": [
      "333167\n"
     ]
    }
   ],
   "source": [
    "# 문제 5 풀이\n",
    "i = 0\n",
    "sum = 0\n",
    "while i < 1000:\n",
    "    if i % 2 ==0 or i % 3 == 0:\n",
    "        sum = sum + i\n",
    "    i += 1\n",
    "\n",
    "print(sum)"
   ]
  },
  {
   "cell_type": "code",
   "execution_count": null,
   "metadata": {},
   "outputs": [],
   "source": [
    "# 문제6 # 정수 n의 약수 n으로 나눴을때 떨어지는 수 # 정수 120의 약수 출력하 고 몇개인지\n",
    "a6 = 120\n",
    "b6 = 1\n",
    "c6 =0\n",
    "while b6 <= a6:\n",
    "    if a6"
   ]
  },
  {
   "cell_type": "code",
   "execution_count": 130,
   "metadata": {},
   "outputs": [
    {
     "name": "stdout",
     "output_type": "stream",
     "text": [
      "1\n",
      "120의 약수 %d 1\n",
      "2\n",
      "120의 약수 %d 2\n",
      "3\n",
      "120의 약수 %d 3\n",
      "4\n",
      "120의 약수 %d 4\n",
      "5\n",
      "120의 약수 %d 5\n",
      "6\n",
      "120의 약수 %d 6\n",
      "120의 약수 %d 6\n",
      "8\n",
      "120의 약수 %d 7\n",
      "120의 약수 %d 7\n",
      "10\n",
      "120의 약수 %d 8\n",
      "120의 약수 %d 8\n",
      "12\n",
      "120의 약수 %d 9\n",
      "120의 약수 %d 9\n",
      "120의 약수 %d 9\n",
      "15\n",
      "120의 약수 %d 10\n",
      "120의 약수 %d 10\n",
      "120의 약수 %d 10\n",
      "120의 약수 %d 10\n",
      "120의 약수 %d 10\n",
      "20\n",
      "120의 약수 %d 11\n",
      "120의 약수 %d 11\n",
      "120의 약수 %d 11\n",
      "120의 약수 %d 11\n",
      "24\n",
      "120의 약수 %d 12\n",
      "120의 약수 %d 12\n",
      "120의 약수 %d 12\n",
      "120의 약수 %d 12\n",
      "120의 약수 %d 12\n",
      "120의 약수 %d 12\n",
      "30\n",
      "120의 약수 %d 13\n",
      "120의 약수 %d 13\n",
      "120의 약수 %d 13\n",
      "120의 약수 %d 13\n",
      "120의 약수 %d 13\n",
      "120의 약수 %d 13\n",
      "120의 약수 %d 13\n",
      "120의 약수 %d 13\n",
      "120의 약수 %d 13\n",
      "120의 약수 %d 13\n",
      "40\n",
      "120의 약수 %d 14\n",
      "120의 약수 %d 14\n",
      "120의 약수 %d 14\n",
      "120의 약수 %d 14\n",
      "120의 약수 %d 14\n",
      "120의 약수 %d 14\n",
      "120의 약수 %d 14\n",
      "120의 약수 %d 14\n",
      "120의 약수 %d 14\n",
      "120의 약수 %d 14\n",
      "120의 약수 %d 14\n",
      "120의 약수 %d 14\n",
      "120의 약수 %d 14\n",
      "120의 약수 %d 14\n",
      "120의 약수 %d 14\n",
      "120의 약수 %d 14\n",
      "120의 약수 %d 14\n",
      "120의 약수 %d 14\n",
      "120의 약수 %d 14\n",
      "120의 약수 %d 14\n",
      "60\n",
      "120의 약수 %d 15\n",
      "120의 약수 %d 15\n",
      "120의 약수 %d 15\n",
      "120의 약수 %d 15\n",
      "120의 약수 %d 15\n",
      "120의 약수 %d 15\n",
      "120의 약수 %d 15\n",
      "120의 약수 %d 15\n",
      "120의 약수 %d 15\n",
      "120의 약수 %d 15\n",
      "120의 약수 %d 15\n",
      "120의 약수 %d 15\n",
      "120의 약수 %d 15\n",
      "120의 약수 %d 15\n",
      "120의 약수 %d 15\n",
      "120의 약수 %d 15\n",
      "120의 약수 %d 15\n",
      "120의 약수 %d 15\n",
      "120의 약수 %d 15\n",
      "120의 약수 %d 15\n",
      "120의 약수 %d 15\n",
      "120의 약수 %d 15\n",
      "120의 약수 %d 15\n",
      "120의 약수 %d 15\n",
      "120의 약수 %d 15\n",
      "120의 약수 %d 15\n",
      "120의 약수 %d 15\n",
      "120의 약수 %d 15\n",
      "120의 약수 %d 15\n",
      "120의 약수 %d 15\n",
      "120의 약수 %d 15\n",
      "120의 약수 %d 15\n",
      "120의 약수 %d 15\n",
      "120의 약수 %d 15\n",
      "120의 약수 %d 15\n",
      "120의 약수 %d 15\n",
      "120의 약수 %d 15\n",
      "120의 약수 %d 15\n",
      "120의 약수 %d 15\n",
      "120의 약수 %d 15\n",
      "120의 약수 %d 15\n",
      "120의 약수 %d 15\n",
      "120의 약수 %d 15\n",
      "120의 약수 %d 15\n",
      "120의 약수 %d 15\n",
      "120의 약수 %d 15\n",
      "120의 약수 %d 15\n",
      "120의 약수 %d 15\n",
      "120의 약수 %d 15\n",
      "120의 약수 %d 15\n",
      "120의 약수 %d 15\n",
      "120의 약수 %d 15\n",
      "120의 약수 %d 15\n",
      "120의 약수 %d 15\n",
      "120의 약수 %d 15\n",
      "120의 약수 %d 15\n",
      "120의 약수 %d 15\n",
      "120의 약수 %d 15\n",
      "120의 약수 %d 15\n",
      "120의 약수 %d 15\n",
      "120\n",
      "120의 약수 %d 16\n"
     ]
    }
   ],
   "source": [
    "# 문제6  풀이\n",
    "i = 1\n",
    "count = 0\n",
    "\n",
    "while i < 121:\n",
    "    if 120 % i == 0:\n",
    "        print(i)\n",
    "        count += 1\n",
    "    i += 1\n",
    "\n",
    "    print('120의 약수 %d', count)"
   ]
  },
  {
   "cell_type": "code",
   "execution_count": null,
   "metadata": {},
   "outputs": [],
   "source": [
    "# 문제7\n",
    "a7 = 1\n",
    "while a7 < 82:\n",
    "    a7 = a7 * 1\n",
    "print(a7*1, a7*2, a7*3)\n"
   ]
  },
  {
   "cell_type": "code",
   "execution_count": 133,
   "metadata": {},
   "outputs": [
    {
     "name": "stdout",
     "output_type": "stream",
     "text": [
      "1단\n",
      "1 * 1 = 1\n",
      "1 * 2 = 2\n",
      "1 * 3 = 3\n",
      "1 * 4 = 4\n",
      "1 * 5 = 5\n",
      "1 * 6 = 6\n",
      "1 * 7 = 7\n",
      "1 * 8 = 8\n",
      "1 * 9 = 9\n",
      "2단\n",
      "2 * 1 = 2\n",
      "2 * 2 = 4\n",
      "2 * 3 = 6\n",
      "2 * 4 = 8\n",
      "2 * 5 = 10\n",
      "2 * 6 = 12\n",
      "2 * 7 = 14\n",
      "2 * 8 = 16\n",
      "2 * 9 = 18\n",
      "3단\n",
      "3 * 1 = 3\n",
      "3 * 2 = 6\n",
      "3 * 3 = 9\n",
      "3 * 4 = 12\n",
      "3 * 5 = 15\n",
      "3 * 6 = 18\n",
      "3 * 7 = 21\n",
      "3 * 8 = 24\n",
      "3 * 9 = 27\n",
      "4단\n",
      "4 * 1 = 4\n",
      "4 * 2 = 8\n",
      "4 * 3 = 12\n",
      "4 * 4 = 16\n",
      "4 * 5 = 20\n",
      "4 * 6 = 24\n",
      "4 * 7 = 28\n",
      "4 * 8 = 32\n",
      "4 * 9 = 36\n",
      "5단\n",
      "5 * 1 = 5\n",
      "5 * 2 = 10\n",
      "5 * 3 = 15\n",
      "5 * 4 = 20\n",
      "5 * 5 = 25\n",
      "5 * 6 = 30\n",
      "5 * 7 = 35\n",
      "5 * 8 = 40\n",
      "5 * 9 = 45\n",
      "6단\n",
      "6 * 1 = 6\n",
      "6 * 2 = 12\n",
      "6 * 3 = 18\n",
      "6 * 4 = 24\n",
      "6 * 5 = 30\n",
      "6 * 6 = 36\n",
      "6 * 7 = 42\n",
      "6 * 8 = 48\n",
      "6 * 9 = 54\n",
      "7단\n",
      "7 * 1 = 7\n",
      "7 * 2 = 14\n",
      "7 * 3 = 21\n",
      "7 * 4 = 28\n",
      "7 * 5 = 35\n",
      "7 * 6 = 42\n",
      "7 * 7 = 49\n",
      "7 * 8 = 56\n",
      "7 * 9 = 63\n",
      "8단\n",
      "8 * 1 = 8\n",
      "8 * 2 = 16\n",
      "8 * 3 = 24\n",
      "8 * 4 = 32\n",
      "8 * 5 = 40\n",
      "8 * 6 = 48\n",
      "8 * 7 = 56\n",
      "8 * 8 = 64\n",
      "8 * 9 = 72\n",
      "9단\n",
      "9 * 1 = 9\n",
      "9 * 2 = 18\n",
      "9 * 3 = 27\n",
      "9 * 4 = 36\n",
      "9 * 5 = 45\n",
      "9 * 6 = 54\n",
      "9 * 7 = 63\n",
      "9 * 8 = 72\n",
      "9 * 9 = 81\n"
     ]
    }
   ],
   "source": [
    "# 문제7 풀이\n",
    "a = 1\n",
    "b = 1\n",
    "while a < 10:\n",
    "    print(a, '단', sep = '')\n",
    "    while b < 10:\n",
    "        print(\"{} * {} = {}\".format(a, b, a * b))\n",
    "        b += 1\n",
    "    a += 1\n",
    "    b = 1"
   ]
  },
  {
   "cell_type": "code",
   "execution_count": 134,
   "metadata": {},
   "outputs": [
    {
     "name": "stdout",
     "output_type": "stream",
     "text": [
      "1\n",
      "2\n",
      "4\n",
      "8\n",
      "16\n",
      "32\n",
      "64\n",
      "128\n",
      "256\n",
      "512\n",
      "1024\n",
      "2048\n",
      "4096\n",
      "8192\n",
      "16384\n",
      "32768\n",
      "65536\n",
      "131072\n",
      "262144\n",
      "524288\n",
      "1048576\n",
      "2097152\n",
      "4194304\n",
      "8388608\n",
      "16777216\n",
      "33554432\n",
      "67108864\n",
      "134217728\n",
      "268435456\n",
      "536870912\n",
      "1073741824\n",
      "2147483648\n",
      "4294967296\n",
      "8589934592\n",
      "17179869184\n",
      "34359738368\n",
      "68719476736\n",
      "137438953472\n",
      "274877906944\n",
      "549755813888\n",
      "1099511627776\n",
      "2199023255552\n",
      "4398046511104\n",
      "8796093022208\n",
      "17592186044416\n",
      "35184372088832\n",
      "70368744177664\n",
      "140737488355328\n",
      "281474976710656\n",
      "562949953421312\n"
     ]
    }
   ],
   "source": [
    "# 문제 8 풀이 # 피보나치 수열\n",
    "# 피보나치 수열 첫 50개 항 출력\n",
    "\n",
    "prev = 0\n",
    "current =1\n",
    "i = 1\n",
    "\n",
    "while i < 51:\n",
    "    print(current)\n",
    "\n",
    "    temp = prev\n",
    "    prev = current\n",
    "    current = current + prev \n",
    "    i += 1\n"
   ]
  },
  {
   "cell_type": "code",
   "execution_count": null,
   "metadata": {},
   "outputs": [],
   "source": [
    "# 240513 과제 (14일 배우고 다음까지)\n",
    "# 로또 생성 프로그램\n",
    "# 1. 1~45 숫자중 6개 \n",
    "# 2. 중복된 숫자 X \n",
    "# 3. 1~45까지 나오게 하는 랜덤함수"
   ]
  },
  {
   "cell_type": "code",
   "execution_count": null,
   "metadata": {},
   "outputs": [],
   "source": []
  }
 ],
 "metadata": {
  "kernelspec": {
   "display_name": "base",
   "language": "python",
   "name": "python3"
  },
  "language_info": {
   "codemirror_mode": {
    "name": "ipython",
    "version": 3
   },
   "file_extension": ".py",
   "mimetype": "text/x-python",
   "name": "python",
   "nbconvert_exporter": "python",
   "pygments_lexer": "ipython3",
   "version": "3.11.7"
  }
 },
 "nbformat": 4,
 "nbformat_minor": 2
}
