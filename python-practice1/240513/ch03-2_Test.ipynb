{
 "cells": [
  {
   "cell_type": "code",
   "execution_count": null,
   "metadata": {},
   "outputs": [],
   "source": [
    "# 문제2\n",
    "a2 = 0\n",
    "while a2 < 100:\n",
    "    a2 = a2 + 1\n",
    "    if a2 % 2 == 0:\n",
    "        print(a2)"
   ]
  },
  {
   "cell_type": "code",
   "execution_count": 1,
   "metadata": {},
   "outputs": [
    {
     "name": "stdout",
     "output_type": "stream",
     "text": [
      "120의 약수:\n",
      "1\n",
      "2\n",
      "3\n",
      "4\n",
      "5\n",
      "6\n",
      "8\n",
      "10\n",
      "12\n",
      "15\n",
      "20\n",
      "24\n",
      "30\n",
      "40\n",
      "60\n",
      "120\n",
      "\n",
      "120의 약수의 개수: 16\n"
     ]
    }
   ],
   "source": [
    "number = 120\n",
    "current_number = 1\n",
    "divisor_count = 0\n",
    "\n",
    "print(f\"{number}의 약수:\")\n",
    "\n",
    "while current_number <= number:\n",
    "    if number % current_number == 0:\n",
    "        print(current_number)\n",
    "        divisor_count += 1\n",
    "    current_number += 1\n",
    "\n",
    "print(f\"\\n{number}의 약수의 개수: {divisor_count}\")\n"
   ]
  },
  {
   "cell_type": "code",
   "execution_count": 2,
   "metadata": {},
   "outputs": [
    {
     "name": "stdout",
     "output_type": "stream",
     "text": [
      "     first,     second,  third,  fourth\n"
     ]
    }
   ],
   "source": [
    "elements = [\"first\", \"second\", \"third\", \"fourth\"]\n",
    "\n",
    "for i, element in enumerate(elements):\n",
    "    if i == 0:\n",
    "        print(\" \" * 5 + element, end=\"\")\n",
    "    elif i == 1:\n",
    "        print(\" \" * 4 + element, end=\"\")\n",
    "    else:\n",
    "        print(\" \" + element, end=\"\")\n",
    "    if i < len(elements) - 1:\n",
    "        print(\", \", end=\"\")\n",
    "\n",
    "print()\n"
   ]
  },
  {
   "cell_type": "code",
   "execution_count": 3,
   "metadata": {},
   "outputs": [
    {
     "name": "stdout",
     "output_type": "stream",
     "text": [
      "       *\n",
      "      **\n",
      "     ***\n",
      "    ****\n",
      "   *****\n",
      "  ******\n",
      " *******\n",
      "********\n"
     ]
    }
   ],
   "source": [
    "a = 8\n",
    "for i in range(a):\n",
    "    print(\" \" * (a - (i+1)), end=\"\")\n",
    "    print('*' * (i+1))"
   ]
  },
  {
   "cell_type": "code",
   "execution_count": 1,
   "metadata": {},
   "outputs": [
    {
     "name": "stdout",
     "output_type": "stream",
     "text": [
      "mary's cosnatics\n"
     ]
    }
   ],
   "source": [
    "print(\"mary's cosnatics\")"
   ]
  },
  {
   "cell_type": "code",
   "execution_count": 3,
   "metadata": {},
   "outputs": [
    {
     "name": "stdout",
     "output_type": "stream",
     "text": [
      "신씨가 소리질렀다. \"도둑이야\"\n"
     ]
    }
   ],
   "source": [
    "print('신씨가 소리질렀다. \"도둑이야\"')"
   ]
  },
  {
   "cell_type": "code",
   "execution_count": 7,
   "metadata": {},
   "outputs": [
    {
     "name": "stdout",
     "output_type": "stream",
     "text": [
      "naver;kakao;samsung\n"
     ]
    }
   ],
   "source": [
    "print(\"naver\", \"kakao\", \"samsung\", sep=\";\")"
   ]
  },
  {
   "cell_type": "code",
   "execution_count": 10,
   "metadata": {},
   "outputs": [
    {
     "name": "stdout",
     "output_type": "stream",
     "text": [
      "naver/kakao/samsung\n"
     ]
    }
   ],
   "source": [
    "print(\"naver\", \"kakao\", \"samsung\", sep=\"/\")"
   ]
  }
 ],
 "metadata": {
  "kernelspec": {
   "display_name": "base",
   "language": "python",
   "name": "python3"
  },
  "language_info": {
   "codemirror_mode": {
    "name": "ipython",
    "version": 3
   },
   "file_extension": ".py",
   "mimetype": "text/x-python",
   "name": "python",
   "nbconvert_exporter": "python",
   "pygments_lexer": "ipython3",
   "version": "3.11.7"
  }
 },
 "nbformat": 4,
 "nbformat_minor": 2
}
