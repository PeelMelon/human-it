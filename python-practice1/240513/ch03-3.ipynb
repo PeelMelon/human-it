{
 "cells": [
  {
   "cell_type": "code",
   "execution_count": null,
   "metadata": {},
   "outputs": [],
   "source": [
    "# for문 학습\n",
    "\n",
    "# for문의 기본 구조\n"
   ]
  },
  {
   "cell_type": "code",
   "execution_count": 1,
   "metadata": {},
   "outputs": [
    {
     "name": "stdout",
     "output_type": "stream",
     "text": [
      "one\n",
      "two\n",
      "three\n"
     ]
    }
   ],
   "source": [
    "test_list = ['one', 'two', 'three'] \n",
    "for i in test_list: \n",
    "    print(i)"
   ]
  },
  {
   "cell_type": "code",
   "execution_count": 2,
   "metadata": {},
   "outputs": [
    {
     "name": "stdout",
     "output_type": "stream",
     "text": [
      "3\n",
      "7\n",
      "11\n"
     ]
    }
   ],
   "source": [
    "# 다양한 for문의 사용\n",
    "a = [(1,2), (3,4), (5,6)]\n",
    "for (first, last) in a:\n",
    "    print(first + last)"
   ]
  },
  {
   "cell_type": "code",
   "execution_count": 3,
   "metadata": {},
   "outputs": [
    {
     "name": "stdout",
     "output_type": "stream",
     "text": [
      "1 2\n",
      "3 4\n",
      "5 6\n"
     ]
    }
   ],
   "source": [
    "a = [(1,2), (3,4), (5,6)]\n",
    "for (x, y) in a:\n",
    "    print(x, y)"
   ]
  },
  {
   "cell_type": "code",
   "execution_count": 4,
   "metadata": {},
   "outputs": [
    {
     "name": "stdout",
     "output_type": "stream",
     "text": [
      "1번 학생은 합격입니다.\n",
      "2번 학생은 불합격입니다.\n",
      "3번 학생은 합격입니다.\n",
      "4번 학생은 불합격입니다.\n",
      "5번 학생은 합격입니다.\n"
     ]
    }
   ],
   "source": [
    "marks = [90, 25, 67, 45, 80]   # 학생들의 시험 점수 리스트\n",
    "\n",
    "number = 0   # 학생에게 붙여 줄 번호\n",
    "for mark in marks:   # 90, 25, 67, 45, 80을 순서대로 mark에 대입\n",
    "    number = number +1 \n",
    "    if mark >= 60: \n",
    "        print(\"%d번 학생은 합격입니다.\" % number)\n",
    "    else: \n",
    "        print(\"%d번 학생은 불합격입니다.\" % number)"
   ]
  },
  {
   "cell_type": "code",
   "execution_count": 5,
   "metadata": {},
   "outputs": [
    {
     "name": "stdout",
     "output_type": "stream",
     "text": [
      "1번 학생 축하힙니다. 합격입니다.\n",
      "3번 학생 축하힙니다. 합격입니다.\n",
      "4번 학생 축하힙니다. 합격입니다.\n"
     ]
    }
   ],
   "source": [
    "marks = [90, 25, 67 ,80]\n",
    "\n",
    "number = 0\n",
    "for mark in marks:\n",
    "    number +=1\n",
    "    if mark <60:\n",
    "        continue\n",
    "    print('%d번 학생 축하힙니다. 합격입니다.' % number)"
   ]
  },
  {
   "cell_type": "code",
   "execution_count": 6,
   "metadata": {},
   "outputs": [
    {
     "name": "stdout",
     "output_type": "stream",
     "text": [
      "range(0, 10)\n",
      "range(1, 11)\n"
     ]
    }
   ],
   "source": [
    "# for문과 함께 자주 사용하는 range 함수\n",
    "a = range(10)\n",
    "print(a)\n",
    "a = range(1, 11)\n",
    "print(a)"
   ]
  },
  {
   "cell_type": "code",
   "execution_count": 7,
   "metadata": {},
   "outputs": [
    {
     "name": "stdout",
     "output_type": "stream",
     "text": [
      "55\n"
     ]
    }
   ],
   "source": [
    "add = 0 \n",
    "for i in range(1, 11): \n",
    "    add = add + i\n",
    "\n",
    "print(add)"
   ]
  },
  {
   "cell_type": "code",
   "execution_count": 8,
   "metadata": {},
   "outputs": [
    {
     "name": "stdout",
     "output_type": "stream",
     "text": [
      "1번 학생 축하합니다. 합격입니다.\n",
      "3번 학생 축하합니다. 합격입니다.\n",
      "5번 학생 축하합니다. 합격입니다.\n"
     ]
    }
   ],
   "source": [
    "# marks3.py\n",
    "marks = [90, 25, 67, 45, 80]\n",
    "for number in range(len(marks)):\n",
    "    if marks[number] < 60: \n",
    "        continue\n",
    "    print(\"%d번 학생 축하합니다. 합격입니다.\" % (number+1))"
   ]
  },
  {
   "cell_type": "code",
   "execution_count": 10,
   "metadata": {},
   "outputs": [
    {
     "name": "stdout",
     "output_type": "stream",
     "text": [
      "1\n",
      "3\n",
      "5\n",
      "7\n",
      "9\n"
     ]
    }
   ],
   "source": [
    "# 인수 3개가 있는 rgnge 함수 사용하기\n",
    "\n",
    "for a in range(1, 10, 2): # 중거거 2안 9까지의 리스트\n",
    "    print(a)"
   ]
  },
  {
   "cell_type": "code",
   "execution_count": 15,
   "metadata": {},
   "outputs": [
    {
     "name": "stdout",
     "output_type": "stream",
     "text": [
      "2 4 6 8 10 12 14 16 18 \n",
      "3 6 9 12 15 18 21 24 27 \n",
      "4 8 12 16 20 24 28 32 36 \n",
      "5 10 15 20 25 30 35 40 45 \n",
      "6 12 18 24 30 36 42 48 54 \n",
      "7 14 21 28 35 42 49 56 63 \n",
      "8 16 24 32 40 48 56 64 72 \n",
      "9 18 27 36 45 54 63 72 81 \n"
     ]
    }
   ],
   "source": [
    "for i in range(2,10):        # 1번 for문\n",
    "    for j in range(1, 10):   # 2번 for문\n",
    "        print(i*j, end=\" \") \n",
    "    print('')"
   ]
  },
  {
   "cell_type": "code",
   "execution_count": 14,
   "metadata": {},
   "outputs": [
    {
     "name": "stdout",
     "output_type": "stream",
     "text": [
      "2단:  2 4 6 8 10 12 14 16 18 \n",
      "3단:  3 6 9 12 15 18 21 24 27 \n",
      "4단:  4 8 12 16 20 24 28 32 36 \n",
      "5단:  5 10 15 20 25 30 35 40 45 \n",
      "6단:  6 12 18 24 30 36 42 48 54 \n",
      "7단:  7 14 21 28 35 42 49 56 63 \n",
      "8단:  8 16 24 32 40 48 56 64 72 \n",
      "9단:  9 18 27 36 45 54 63 72 81 \n"
     ]
    }
   ],
   "source": [
    "for i in range(2,10):\n",
    "    print(i, '단: ', sep ='', end =' ')\n",
    "    for j in range(1, 10):\n",
    "        print (i * j, end =' ')\n",
    "    print('')"
   ]
  },
  {
   "cell_type": "code",
   "execution_count": 17,
   "metadata": {},
   "outputs": [
    {
     "name": "stdout",
     "output_type": "stream",
     "text": [
      "[3, 6, 9, 12]\n"
     ]
    }
   ],
   "source": [
    "# 리스트 컴프리헨션 사용하기 1\n",
    "a = [1, 2, 3, 4]\n",
    "result = []\n",
    "for num in a:\n",
    "    result.append(num*3)\n",
    "\n",
    "print(result)"
   ]
  },
  {
   "cell_type": "code",
   "execution_count": 18,
   "metadata": {},
   "outputs": [
    {
     "name": "stdout",
     "output_type": "stream",
     "text": [
      "[6, 12]\n"
     ]
    }
   ],
   "source": [
    "# 리스트 컴프리헨션 사용하기 2\n",
    "a = [1, 2, 3, 4]\n",
    "result = [num * 3 for num in a if num % 2 ==0]\n",
    "print(result)"
   ]
  },
  {
   "cell_type": "code",
   "execution_count": 19,
   "metadata": {},
   "outputs": [
    {
     "name": "stdout",
     "output_type": "stream",
     "text": [
      "[2, 4, 6, 8, 10, 12, 14, 16, 18, 3, 6, 9, 12, 15, 18, 21, 24, 27, 4, 8, 12, 16, 20, 24, 28, 32, 36, 5, 10, 15, 20, 25, 30, 35, 40, 45, 6, 12, 18, 24, 30, 36, 42, 48, 54, 7, 14, 21, 28, 35, 42, 49, 56, 63, 8, 16, 24, 32, 40, 48, 56, 64, 72, 9, 18, 27, 36, 45, 54, 63, 72, 81]\n"
     ]
    }
   ],
   "source": [
    "# 리스트 컴프리헨션 사용하기 3\n",
    "result = [x*y for x in range(2,10)\n",
    "            for y in range(1,10)]\n",
    "print(result)"
   ]
  },
  {
   "cell_type": "code",
   "execution_count": 3,
   "metadata": {},
   "outputs": [
    {
     "name": "stdout",
     "output_type": "stream",
     "text": [
      "평균: 79.0\n"
     ]
    }
   ],
   "source": [
    "# 문제1 # 평균점수\n",
    "# [70, 60, 55, 75, 95, 90, 80, 80, 85, 100]\n",
    "\n",
    "s = [70, 60, 55, 75, 95, 90, 80, 80, 85, 100]\n",
    "t = 0\n",
    "c = 0\n",
    "\n",
    "for s in s:\n",
    "    t += s\n",
    "    c += 1\n",
    "\n",
    "p = t / c\n",
    "\n",
    "print(\"평균:\", p)\n"
   ]
  },
  {
   "cell_type": "code",
   "execution_count": 5,
   "metadata": {},
   "outputs": [
    {
     "ename": "TypeError",
     "evalue": "'builtin_function_or_method' object is not subscriptable",
     "output_type": "error",
     "traceback": [
      "\u001b[1;31m---------------------------------------------------------------------------\u001b[0m",
      "\u001b[1;31mTypeError\u001b[0m                                 Traceback (most recent call last)",
      "Cell \u001b[1;32mIn[5], line 2\u001b[0m\n\u001b[0;32m      1\u001b[0m \u001b[38;5;66;03m# 문제1 풀이\u001b[39;00m\n\u001b[1;32m----> 2\u001b[0m list1 \u001b[38;5;241m=\u001b[39m \u001b[38;5;28mlen\u001b[39m[\u001b[38;5;241m70\u001b[39m, \u001b[38;5;241m60\u001b[39m, \u001b[38;5;241m55\u001b[39m, \u001b[38;5;241m75\u001b[39m, \u001b[38;5;241m95\u001b[39m, \u001b[38;5;241m90\u001b[39m, \u001b[38;5;241m80\u001b[39m, \u001b[38;5;241m80\u001b[39m, \u001b[38;5;241m85\u001b[39m, \u001b[38;5;241m100\u001b[39m]\n\u001b[0;32m      3\u001b[0m count \u001b[38;5;241m=\u001b[39m \u001b[38;5;28mlen\u001b[39m(list1)\n\u001b[0;32m      4\u001b[0m \u001b[38;5;28msum\u001b[39m \u001b[38;5;241m=\u001b[39m \u001b[38;5;241m0\u001b[39m\n",
      "\u001b[1;31mTypeError\u001b[0m: 'builtin_function_or_method' object is not subscriptable"
     ]
    }
   ],
   "source": [
    "# 문제1 풀이\n",
    "list1 = len[70, 60, 55, 75, 95, 90, 80, 80, 85, 100]\n",
    "count = len(list1)\n",
    "sum = 0\n",
    "\n",
    "for b in list1:\n",
    "    sum += b\n",
    "\n",
    "print(sum / count)\n"
   ]
  },
  {
   "cell_type": "code",
   "execution_count": 32,
   "metadata": {},
   "outputs": [
    {
     "ename": "NameError",
     "evalue": "name 'append' is not defined",
     "output_type": "error",
     "traceback": [
      "\u001b[1;31m---------------------------------------------------------------------------\u001b[0m",
      "\u001b[1;31mNameError\u001b[0m                                 Traceback (most recent call last)",
      "Cell \u001b[1;32mIn[32], line 6\u001b[0m\n\u001b[0;32m      4\u001b[0m \u001b[38;5;28;01mfor\u001b[39;00m n \u001b[38;5;129;01min\u001b[39;00m numbers:\n\u001b[0;32m      5\u001b[0m     \u001b[38;5;28;01mif\u001b[39;00m n \u001b[38;5;241m%\u001b[39m \u001b[38;5;241m2\u001b[39m \u001b[38;5;241m==\u001b[39m\u001b[38;5;241m1\u001b[39m:\n\u001b[1;32m----> 6\u001b[0m         result:append(n\u001b[38;5;241m*\u001b[39m\u001b[38;5;241m2\u001b[39m)\n\u001b[0;32m      7\u001b[0m \u001b[38;5;28mprint\u001b[39m(result)\n",
      "\u001b[1;31mNameError\u001b[0m: name 'append' is not defined"
     ]
    }
   ],
   "source": [
    "# 문제2 #컴프리헨션 변환\n",
    "numbers = [1, 2, 3, 4]\n",
    "result = []\n",
    "for n in numbers:\n",
    "    if n % 2 ==1:\n",
    "        result:append.(n * 2)\n",
    "print(result)\n"
   ]
  },
  {
   "cell_type": "code",
   "execution_count": 33,
   "metadata": {},
   "outputs": [
    {
     "name": "stdout",
     "output_type": "stream",
     "text": [
      "[2, 6]\n"
     ]
    }
   ],
   "source": [
    "#문제2 풀이\n",
    "result = [n * 2 for n in numbers if n %2 == 1]\n",
    "print(result)"
   ]
  }
 ],
 "metadata": {
  "kernelspec": {
   "display_name": "base",
   "language": "python",
   "name": "python3"
  },
  "language_info": {
   "codemirror_mode": {
    "name": "ipython",
    "version": 3
   },
   "file_extension": ".py",
   "mimetype": "text/x-python",
   "name": "python",
   "nbconvert_exporter": "python",
   "pygments_lexer": "ipython3",
   "version": "3.11.7"
  }
 },
 "nbformat": 4,
 "nbformat_minor": 2
}
