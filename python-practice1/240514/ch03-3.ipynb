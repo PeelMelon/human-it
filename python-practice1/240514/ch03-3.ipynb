{
 "cells": [
  {
   "cell_type": "code",
   "execution_count": 4,
   "metadata": {},
   "outputs": [
    {
     "name": "stdout",
     "output_type": "stream",
     "text": [
      "*\n",
      "**\n",
      "***\n",
      "****\n",
      "*****\n"
     ]
    }
   ],
   "source": [
    "# for문\n",
    "\n",
    "# 문제1\n",
    "# for문을 이용해서 아래와 같은 별 코드 작성\n",
    "# *\n",
    "# **\n",
    "# ***\n",
    "# ****\n",
    "# *****\n",
    "\n",
    "a1 = ['*', '**','***', '****', '*****']\n",
    "for a1 in a1:\n",
    "    print(a1)"
   ]
  },
  {
   "cell_type": "code",
   "execution_count": 41,
   "metadata": {},
   "outputs": [
    {
     "name": "stdout",
     "output_type": "stream",
     "text": [
      "*\n",
      "**\n",
      "***\n",
      "****\n",
      "*****\n",
      "*\n",
      "**\n",
      "***\n",
      "****\n",
      "*****\n"
     ]
    }
   ],
   "source": [
    "# 문제1 풀이 for문 혹은 이중 for문을 이용해서 코드작성\n",
    "a =5\n",
    "for i in range(5): #0~4까지 반복함 > 1~5\n",
    "    print('*' * (i+1))\n",
    "\n",
    "for i in range(1, 6): # 1 ~ 5\n",
    "    for j in range(i): # 객체 j는 i의 개수만큼\n",
    "        print('*', end = '')\n",
    "    print() # 한줄 띄우기"
   ]
  },
  {
   "cell_type": "code",
   "execution_count": 24,
   "metadata": {},
   "outputs": [
    {
     "name": "stdout",
     "output_type": "stream",
     "text": [
      "    *\n",
      "   **\n",
      "  ***\n",
      " ****\n",
      "*****\n"
     ]
    }
   ],
   "source": [
    "# 문제2\n",
    "#     *\n",
    "#    **\n",
    "#   ***\n",
    "#  ****\n",
    "# ***** \n",
    "\n",
    "b = 5\n",
    "for i in range(b):\n",
    "    print(\" \" * (b - (i+1)), end=\"\")\n",
    "    print('*' * (i+1))\n"
   ]
  },
  {
   "cell_type": "code",
   "execution_count": 42,
   "metadata": {},
   "outputs": [
    {
     "name": "stdout",
     "output_type": "stream",
     "text": [
      "    *\n",
      "   **\n",
      "  ***\n",
      " ****\n",
      "*****\n"
     ]
    }
   ],
   "source": [
    "# 문제2 풀이\n",
    "for i in range(5): # 0 ~ 4\n",
    "    print(\" \" * (5 - (i+1)), end =\"\")\n",
    "    print(\"*\" * (i+1))"
   ]
  },
  {
   "cell_type": "code",
   "execution_count": 21,
   "metadata": {},
   "outputs": [
    {
     "name": "stdout",
     "output_type": "stream",
     "text": [
      "*****\n",
      "****\n",
      "***\n",
      "**\n",
      "*\n"
     ]
    }
   ],
   "source": [
    "# 문제3\n",
    "# *****\n",
    "# ****\n",
    "# ***\n",
    "# **\n",
    "# *\n",
    "\n",
    "c1 = 5\n",
    "for r in range(c1): #for r in range(c1): 루프는 i가 0부터 4까지 반복\n",
    "     print('*' * (c1 - r)) \n",
    "# print('*' * (c1 - r))는 c1 - r 개수만큼의 별 *을 출력,\n",
    "# r이 증가할수록 출력되는 별의 개수가 줄어들어 역삼각형 모양이 만들어집니다."
   ]
  },
  {
   "cell_type": "code",
   "execution_count": 44,
   "metadata": {},
   "outputs": [
    {
     "name": "stdout",
     "output_type": "stream",
     "text": [
      "***** \n",
      "****  \n",
      "***   \n",
      "**    \n",
      "*     \n"
     ]
    }
   ],
   "source": [
    "# 문제3 풀이 이중 for문\n",
    "for i in range(1,6):    # 1 ~ 5\n",
    "    for j in range(6 - i): # 1~5 * 출력\n",
    "        print(\"*\",end=\"\")\n",
    "    for j in range(i):   # i값에 따라 j가 변하는 구조\n",
    "        print(\" \", end = \"\")\n",
    "    print()"
   ]
  },
  {
   "cell_type": "code",
   "execution_count": 45,
   "metadata": {},
   "outputs": [
    {
     "name": "stdout",
     "output_type": "stream",
     "text": [
      "*****\n",
      "****\n",
      "***\n",
      "**\n",
      "*\n"
     ]
    }
   ],
   "source": [
    "for i in range(1, 6): #i\n",
    "    for j in range(6 - i):\n",
    "        print(\"*\", end=\"\")\n",
    "    print()"
   ]
  },
  {
   "cell_type": "code",
   "execution_count": 46,
   "metadata": {},
   "outputs": [
    {
     "name": "stdout",
     "output_type": "stream",
     "text": [
      "    *\n",
      "   ***\n",
      "  *****\n",
      " *******\n",
      "*********\n"
     ]
    }
   ],
   "source": [
    "# 문제4\n",
    "#      *       #앞뒤로 공백이 4개\n",
    "#     ***      \n",
    "#    *****\n",
    "#   *******\n",
    "#  *********\n",
    "\n",
    "for p in range(5):\n",
    "    print(' ' * ((5 - 1) - p), end='')  # 왼쪽 공백 출력\n",
    "    print('*' * (2 * p + 1))            # 별 출력\n",
    "\n",
    "# d는 다이아몬드의 높이(중간에 있는 가장 긴 줄의 길이)를 나타냅니다. \n",
    "# p는 현재 줄의 인덱스를 나타내며 0부터 d-1까지 반복\n",
    "# d-1-p 개수만큼의 공백을 출력하고, 오른쪽에는 (2*p+1) 개수만큼의 별을 출력"
   ]
  },
  {
   "cell_type": "code",
   "execution_count": 48,
   "metadata": {},
   "outputs": [
    {
     "name": "stdout",
     "output_type": "stream",
     "text": [
      "    *\n",
      "   ***\n",
      "  *****\n",
      " *******\n",
      "*********\n"
     ]
    }
   ],
   "source": [
    "# 문제4 풀이\n",
    "for i in range(1, 6):\n",
    "    for j in range(5 - i):\n",
    "        print(\" \", end = \"\")\n",
    "    for j in range(2 * i - 1): # 홀수 개수 만큼 * 출력\n",
    "        print(\"*\",end = \"\")\n",
    "    print()"
   ]
  },
  {
   "cell_type": "code",
   "execution_count": 35,
   "metadata": {},
   "outputs": [
    {
     "name": "stdout",
     "output_type": "stream",
     "text": [
      "0\n",
      "1\n",
      "2\n",
      "3\n",
      "4\n"
     ]
    }
   ],
   "source": [
    "d = 5\n",
    "for p in range(d):\n",
    "    print(p) # p 는 인덱스이고 그 인덱스 순서대로 별을 출력 하면 됨, 그리고 공백을 넣어야 한다."
   ]
  },
  {
   "cell_type": "code",
   "execution_count": 71,
   "metadata": {},
   "outputs": [
    {
     "name": "stdout",
     "output_type": "stream",
     "text": [
      "[38, 29, 6, 19, 43, 10]\n"
     ]
    }
   ],
   "source": [
    "# 문제5 \n",
    "# 로또 생성 프로그램\n",
    "# 1. 1~45 숫자중 6개 \n",
    "# 2. 중복된 숫자 X \n",
    "# 3. 1~45까지 나오게 하는 랜덤함수\n",
    "\n",
    "import random  #가져오기 # 외부 라이브러리를 수입함 \n",
    "\n",
    "a = []\n",
    "for i in range(6): # 0 ~ 5\n",
    "    a.append(random.randint(1, 45))\n",
    "\n",
    "print(a) # 이 코드에서 중복 숫자 나오면 안됨"
   ]
  },
  {
   "cell_type": "code",
   "execution_count": 68,
   "metadata": {},
   "outputs": [
    {
     "name": "stdout",
     "output_type": "stream",
     "text": [
      "[4, 43, 15, 2, 2, 31]\n"
     ]
    }
   ],
   "source": [
    "# 문제5\n",
    "import random \n",
    "a = []\n",
    "for i in range(3): # 0 ~ 5\n",
    "    a.append(random.randint(1, 45))\n",
    "    while True:\n",
    "        b = (random.randint(1, 45))\n",
    "        if b not in a:\n",
    "            a.append(b)\n",
    "            break\n",
    "\n",
    "print(a)"
   ]
  },
  {
   "cell_type": "code",
   "execution_count": 75,
   "metadata": {},
   "outputs": [
    {
     "name": "stdout",
     "output_type": "stream",
     "text": [
      "[45, 11, 3, 30, 26, 21]\n"
     ]
    }
   ],
   "source": [
    "import random\n",
    "a = []\n",
    "for i in range(6):\n",
    "    while True:\n",
    "        b = (random.randint(1, 45))\n",
    "        if b not in a:\n",
    "            a.append(b)\n",
    "            break\n",
    "print(a) "
   ]
  },
  {
   "cell_type": "code",
   "execution_count": 80,
   "metadata": {},
   "outputs": [
    {
     "name": "stdout",
     "output_type": "stream",
     "text": [
      "중복된 번호의 리스트 [6, 39, 41, 22, 29]\n",
      "[37, 38, 6, 8, 40, 21]\n"
     ]
    }
   ],
   "source": [
    "# 문제5 풀이\n",
    "import random  #가져오기 # 외부 라이브러리를 수입함 \n",
    "\n",
    "a = []  # 1. a를 초기화한다.\n",
    "\n",
    "while 1 == 1:\n",
    "    if len(a) == 6:  # 2. a를 6번 반복한다.\n",
    "        break  # 7. 중복이 없다면 멈춤\n",
    "    else:\n",
    "        a=[]  # 5랜덤숫자가 5(중복인경우)\n",
    "        for i in range(6):\n",
    "            a.append(random.randint(1, 45))  # 3. 랜덤으로 다시 반복하는데\n",
    "        a = list(set(a))  # 6. 다시 반복핟고 \n",
    "\n",
    "        if len(a) < 6:\n",
    "            print('중복된 번호의 리스트', a)  #어떤 번호가 중복됐는지까지 알려주지는 않는다.\n",
    "\n",
    "print(a)\n"
   ]
  }
 ],
 "metadata": {
  "kernelspec": {
   "display_name": "base",
   "language": "python",
   "name": "python3"
  },
  "language_info": {
   "codemirror_mode": {
    "name": "ipython",
    "version": 3
   },
   "file_extension": ".py",
   "mimetype": "text/x-python",
   "name": "python",
   "nbconvert_exporter": "python",
   "pygments_lexer": "ipython3",
   "version": "3.11.7"
  }
 },
 "nbformat": 4,
 "nbformat_minor": 2
}
