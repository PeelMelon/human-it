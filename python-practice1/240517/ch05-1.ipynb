{
 "cells": [
  {
   "cell_type": "code",
   "execution_count": 3,
   "metadata": {},
   "outputs": [
    {
     "name": "stdout",
     "output_type": "stream",
     "text": [
      "3\n",
      "7\n",
      "3\n",
      "7\n"
     ]
    }
   ],
   "source": [
    "# 클래스 생성\n",
    "class Calculator:\n",
    "    def __init__(self):   # 생성자      # 생성자와 비슷한 역할\n",
    "        self.result = 0        # result변수를 0으로 초기화 # self 필요\n",
    "    \n",
    "    def add(self, num):        # add 일반함수\n",
    "        self.result = self.result + num\n",
    "        return self.result\n",
    "    \n",
    "    def sub(self, num):        # 일반함수\n",
    "        self.result = self.result - num\n",
    "        return self.result\n",
    "    \n",
    "cal1 = Calculator() # 객체 생성 (실제 붕어빵) cal1에 대입 \n",
    "cal2 = Calculator() # 먼저 class로 틀을 만들고 다시 호출하여 변수에 담을 수 있다.\n",
    "cal3 = Calculator()\n",
    "cal4 = Calculator()\n",
    "\n",
    "a = cal1.add(3) #class Calculator 안에 있는 add함수를 호출\n",
    "print(a)        # 0 + 3\n",
    "a = cal1.add(4)  # 3 + 4\n",
    "print(a)        # 7\n",
    "a = cal2.add(3)\n",
    "print(a) #3\n",
    "a = cal2.add(4)\n",
    "print(a) #7"
   ]
  },
  {
   "cell_type": "code",
   "execution_count": 5,
   "metadata": {},
   "outputs": [
    {
     "name": "stdout",
     "output_type": "stream",
     "text": [
      "<class '__main__.Fourcal'>\n",
      "a.first 4\n",
      "a.second 2\n",
      "b.first 3\n",
      "a.second 2\n",
      "6\n",
      "8\n",
      "2\n",
      "2.0\n"
     ]
    }
   ],
   "source": [
    "class Fourcal():\n",
    "    # 매소드 들의 생성 순서는 상관이 없다.\n",
    "    def __init__(self, first, second):\n",
    "        self.first = first\n",
    "        self.second = second\n",
    "\n",
    "    def setdata(self, first, second):\n",
    "        self.first = first          # java script 의 this와 비슷\n",
    "        self.second = second\n",
    "\n",
    "    def add(self):\n",
    "        result =  self.first + self.second\n",
    "        return result\n",
    "\n",
    "    def sub(self):\n",
    "        result =  self.first - self.second\n",
    "        return result\n",
    "    \n",
    "    def mul(self):\n",
    "        result =  self.first * self.second\n",
    "        return result\n",
    "    \n",
    "    def div(self):\n",
    "        result =  self.first / self.second\n",
    "        return result\n",
    "\n",
    "a = Fourcal(4, 2)\n",
    "print(type(a))\n",
    "# a.setdata(4, 2)\n",
    "\n",
    "print(\"a.first\", a.first)\n",
    "print(\"a.second\", a.second)\n",
    "# Fourcal.setdata(a, 4, 2)\n",
    "\n",
    "b = Fourcal(3, 7)\n",
    "# b.setdata(3, 7)\n",
    "print(\"b.first\", b.first)       # 3\n",
    "print('a.second', a.second)     # 4\n",
    "\n",
    "print(a.add())\n",
    "print(a.mul())\n",
    "print(a.sub())\n",
    "print(a.div())"
   ]
  },
  {
   "cell_type": "code",
   "execution_count": null,
   "metadata": {},
   "outputs": [],
   "source": [
    "a = Fourcal() # 생성자 __init__함수가 실행됨\n",
    "print(a.first)\n",
    "print(a.second)\n",
    "print(a.add())\n",
    "print(a.div())"
   ]
  },
  {
   "cell_type": "code",
   "execution_count": null,
   "metadata": {},
   "outputs": [],
   "source": []
  }
 ],
 "metadata": {
  "kernelspec": {
   "display_name": "base",
   "language": "python",
   "name": "python3"
  },
  "language_info": {
   "codemirror_mode": {
    "name": "ipython",
    "version": 3
   },
   "file_extension": ".py",
   "mimetype": "text/x-python",
   "name": "python",
   "nbconvert_exporter": "python",
   "pygments_lexer": "ipython3",
   "version": "3.11.7"
  }
 },
 "nbformat": 4,
 "nbformat_minor": 2
}
