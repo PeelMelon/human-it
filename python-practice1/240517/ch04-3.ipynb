{
 "cells": [
  {
   "cell_type": "code",
   "execution_count": 2,
   "metadata": {},
   "outputs": [],
   "source": [
    "# Python 에서 파일 처리하기\n",
    "\n",
    "# 엑셀파일 > module (bunary 파일)\n",
    "# csv, txt 등 > 일반 텍스트 파일\n",
    "# csv파일 형태 > a, b, c, d 콤마로 구분\n",
    "\n",
    "# python 으로 파일 생성하기\n",
    "# 파일_객체 = open (파일_이름, 파일_열기_모드)\n",
    "f = open(\"새파일1.txt\", 'w') # 오픈후  write 하겠다는 뜻\n",
    "f.close()\n"
   ]
  },
  {
   "cell_type": "code",
   "execution_count": 5,
   "metadata": {},
   "outputs": [],
   "source": [
    "# 파일열기모드 설명\n",
    "# r\t 읽기 모드: 파일을 읽기만 할 때 사용한다.\n",
    "# w\t 쓰기 모드: 파일에 내용을 쓸 때 사용한다.\n",
    "# a\t 추가 모드: 파일의 마지막에 새로운 내용을 추가할 때 사용한다.\n",
    "f1 = open(\"c:/doit/새파일1.txt\",'w') # 파일 생성 및 열기 #(doit폴더가 미리 생성 돼 있어야 한다) # 폴더는 만들어주지 않음\n",
    "f1.close()                           # 파일 닫음\n"
   ]
  },
  {
   "cell_type": "code",
   "execution_count": 6,
   "metadata": {},
   "outputs": [],
   "source": [
    "f2 = open(\"c:\\\\doit\\\\새파일2.txt\",'w')\n",
    "f2.close\n",
    "f3 = open(r\"c:\\doit\\새파일3.txt\",'w')\n",
    "f3.close()  "
   ]
  },
  {
   "cell_type": "code",
   "execution_count": 25,
   "metadata": {},
   "outputs": [],
   "source": [
    "# 파일을 쓰기 모드로 열어 내용 쓰기 (overwrite)\n",
    "#f = open(\"C:/doit/새파일.txt\", 'w')\n",
    "f = open(\"새파일.txt\", 'w')\n",
    "for i in range(1, 11):\n",
    "    data = \"%d번째 줄입니다.\\n\" % i\n",
    "    f.write(data) # 파일에 data 변수 값을 쓰기 한다.\n",
    "f.close()"
   ]
  },
  {
   "cell_type": "code",
   "execution_count": 14,
   "metadata": {},
   "outputs": [
    {
     "name": "stdout",
     "output_type": "stream",
     "text": [
      "1번째 줄입니다.\n",
      "\n",
      "==============================\n",
      "1번째 줄입니다.\n",
      "2번째 줄입니다.\n",
      "3번째 줄입니다.\n",
      "4번째 줄입니다.\n",
      "5번째 줄입니다.\n",
      "6번째 줄입니다.\n",
      "7번째 줄입니다.\n",
      "8번째 줄입니다.\n",
      "9번째 줄입니다.\n",
      "10번째 줄입니다.\n"
     ]
    }
   ],
   "source": [
    "# 파일을 읽는 여러 가지 방법\n",
    "# (1) readline 함수 이용하기\n",
    "f = open(\"새파일.txt\", 'r') #읽기\n",
    "line = f.readline() #텍스트 파일에 현재 위치의 한 줄 읽기\n",
    "print(line)\n",
    "f.close()\n",
    "\n",
    "print('=' * 30)\n",
    "f = open(\"새파일.txt\", 'r')\n",
    "while True: # 무한 반복\n",
    "    line = f.readline()\n",
    "    if not line: break # 라인이 없으면 멈춤\n",
    "    print(line, end = \"\")\n",
    "f.close()"
   ]
  },
  {
   "cell_type": "code",
   "execution_count": 19,
   "metadata": {},
   "outputs": [
    {
     "name": "stdout",
     "output_type": "stream",
     "text": [
      "1번째 줄입니다.\n",
      "2번째 줄입니다.\n",
      "3번째 줄입니다.\n",
      "4번째 줄입니다.\n",
      "5번째 줄입니다.\n",
      "6번째 줄입니다.\n",
      "7번째 줄입니다.\n",
      "8번째 줄입니다.\n",
      "9번째 줄입니다.\n",
      "10번째 줄입니다.\n"
     ]
    }
   ],
   "source": [
    "# (2) readline 함수 이용하기\n",
    "f = open(\"새파일.txt\", 'r')\n",
    "lines = f.readlines() # 파일의 모든 라인을 읽는다(리턴값은 리스트)\n",
    "for line in lines:\n",
    "    line = line.strip()\n",
    "    print(line) #줄 끝의 줄 바꿈 문자(/n)제거\n",
    "f.close()"
   ]
  },
  {
   "cell_type": "code",
   "execution_count": 21,
   "metadata": {},
   "outputs": [
    {
     "name": "stdout",
     "output_type": "stream",
     "text": [
      "1번째 줄입니다.\n",
      "2번째 줄입니다.\n",
      "3번째 줄입니다.\n",
      "4번째 줄입니다.\n",
      "5번째 줄입니다.\n",
      "6번째 줄입니다.\n",
      "7번째 줄입니다.\n",
      "8번째 줄입니다.\n",
      "9번째 줄입니다.\n",
      "10번째 줄입니다.\n",
      "\n"
     ]
    }
   ],
   "source": [
    "# (3) read 함수 사용하기\n",
    "f = open(\"새파일.txt\", 'r')\n",
    "data = f.read()\n",
    "print(data)\n",
    "f.close()"
   ]
  },
  {
   "cell_type": "code",
   "execution_count": 23,
   "metadata": {},
   "outputs": [
    {
     "name": "stdout",
     "output_type": "stream",
     "text": [
      "1번째 줄입니다.\n",
      "2번째 줄입니다.\n",
      "3번째 줄입니다.\n",
      "4번째 줄입니다.\n",
      "5번째 줄입니다.\n",
      "6번째 줄입니다.\n",
      "7번째 줄입니다.\n",
      "8번째 줄입니다.\n",
      "9번째 줄입니다.\n",
      "10번째 줄입니다.\n"
     ]
    }
   ],
   "source": [
    "# (4) 파일 객체를 for 문과 함께 사용하기\n",
    "f = open(\"새파일.txt\", 'r')\n",
    "for line in f:\n",
    "    print(line, end = \"\")\n",
    "f.close()"
   ]
  },
  {
   "cell_type": "code",
   "execution_count": 26,
   "metadata": {},
   "outputs": [],
   "source": [
    "# 파일에 새로운 내용 추가하기\n",
    "f = open(\"새파일.txt\",'a') # append\n",
    "for i in range(11, 20):\n",
    "    data = \"%d번째 줄입니다.\\n\" % i\n",
    "    f.write(data)\n",
    "f.close()"
   ]
  },
  {
   "cell_type": "code",
   "execution_count": 27,
   "metadata": {},
   "outputs": [],
   "source": [
    "# with 문과 함께 사용하기 > 더이상 클로즈를 하지 않아도 된다.\n",
    "f = open(\"foo.txt\", 'w')\n",
    "f.write(\"Life is too short, you need python\")\n",
    "f.close()"
   ]
  },
  {
   "cell_type": "code",
   "execution_count": null,
   "metadata": {},
   "outputs": [],
   "source": [
    "with open(\"foo.txt\", \"w\") as f:\n",
    "    f.write(\"Life is too short, you need python\")"
   ]
  }
 ],
 "metadata": {
  "kernelspec": {
   "display_name": "base",
   "language": "python",
   "name": "python3"
  },
  "language_info": {
   "codemirror_mode": {
    "name": "ipython",
    "version": 3
   },
   "file_extension": ".py",
   "mimetype": "text/x-python",
   "name": "python",
   "nbconvert_exporter": "python",
   "pygments_lexer": "ipython3",
   "version": "3.11.7"
  }
 },
 "nbformat": 4,
 "nbformat_minor": 2
}
