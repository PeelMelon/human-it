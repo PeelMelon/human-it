{
 "cells": [
  {
   "cell_type": "code",
   "execution_count": null,
   "metadata": {},
   "outputs": [],
   "source": [
    "# 251\n",
    "# 클래스는 탬플릿이고 인스턴스는 객체와 연결돼있는 것을 말함\n",
    "\n",
    "#클래스는 일종의 설계도로, 하나의 타입을 정의하는 방법입니다. \n",
    "#클래스에는 관련있는 데이터와 함수를 한 데 모아 정의할 수 있습니다. \n",
    "#클래스로 만들어진 결과물을 객체라고합니다."
   ]
  },
  {
   "cell_type": "code",
   "execution_count": null,
   "metadata": {},
   "outputs": [],
   "source": [
    "# 252\n",
    "class Human:\n",
    "    pass\n",
    "# o"
   ]
  },
  {
   "cell_type": "code",
   "execution_count": 2,
   "metadata": {},
   "outputs": [
    {
     "name": "stdout",
     "output_type": "stream",
     "text": [
      "응애응애\n",
      "\n"
     ]
    }
   ],
   "source": [
    "# 253  # Human 클래스의 인스턴스를 \"생성\" 하고 이를 areum 변수로 바인딩\n",
    "class Human:\n",
    "    areum = Human()\n",
    "    print()"
   ]
  },
  {
   "cell_type": "code",
   "execution_count": 1,
   "metadata": {},
   "outputs": [
    {
     "name": "stdout",
     "output_type": "stream",
     "text": [
      "응애응애\n"
     ]
    }
   ],
   "source": [
    "# 254  # Human 클래스에 \"응애응애\"를 출력하는 생성자를 추가하세요.\n",
    "class Human:\n",
    "    def __init__(self): # Human 클래스 생성자 추가 하고 프린트\n",
    "        print(\"응애응애\")\n",
    "    \n",
    "areum = Human() # 출력은 areum"
   ]
  },
  {
   "cell_type": "code",
   "execution_count": 19,
   "metadata": {},
   "outputs": [
    {
     "name": "stdout",
     "output_type": "stream",
     "text": [
      "아름\n"
     ]
    }
   ],
   "source": [
    "# 255 # Human 클래스에 (이름, 나이, 성별)을 받는 생성자를 추가하세요.\n",
    "class Human:\n",
    "    def __init__(self, name, age, gender):\n",
    "        self.name = name\n",
    "        self.age = age\n",
    "        self.gender = gender\n",
    "    \n",
    "    def who(self):  # 257 # who 매소드 추가\n",
    "        print(\"이름: {} 나이: {} 성별: {}\".format(self.name, self.age, self.gender))\n",
    "\n",
    "    def setinfo(self, name, age, gender): # 258\n",
    "        self.name = name\n",
    "        self.age = age\n",
    "        self.gender = gender\n",
    "\n",
    "areum = Human(\"아름\", 25, \"여자\")\n",
    "print(areum.name)"
   ]
  },
  {
   "cell_type": "code",
   "execution_count": 7,
   "metadata": {},
   "outputs": [
    {
     "name": "stdout",
     "output_type": "stream",
     "text": [
      "이름:  아름\n",
      "나이:  25\n",
      "성별:  여자\n"
     ]
    }
   ],
   "source": [
    "# 256 \n",
    "print(\"이름: \", areum.name)\n",
    "print(\"나이: \", areum.age)\n",
    "print(\"성별: \", areum.gender)\n"
   ]
  },
  {
   "cell_type": "code",
   "execution_count": 17,
   "metadata": {},
   "outputs": [
    {
     "name": "stdout",
     "output_type": "stream",
     "text": [
      "이름: 아름 나이: 25 성별: 여자\n"
     ]
    }
   ],
   "source": [
    "# 257\n",
    "areum.who()"
   ]
  },
  {
   "cell_type": "code",
   "execution_count": 28,
   "metadata": {},
   "outputs": [
    {
     "data": {
      "text/plain": [
       "<bound method Human.setinfo of <__main__.Human object at 0x0000024D53735390>>"
      ]
     },
     "execution_count": 28,
     "metadata": {},
     "output_type": "execute_result"
    }
   ],
   "source": [
    "# 258\n",
    "class Human:\n",
    "    def __init__(self, name, age, gender):\n",
    "        self.name = name\n",
    "        self.age = age\n",
    "        self.gender = gender\n",
    "    \n",
    "    def who(self):  # 257 # who 매소드 추가\n",
    "        print(\"이름: {} 나이: {} 성별: {}\".format(self.name, self.age, self.gender))\n",
    "\n",
    "    def setinfo(self, name, age, gender): # 258\n",
    "        self.name = name\n",
    "        self.age = age\n",
    "        self.gender = gender\n",
    "        \n",
    "areum = Human(\"모름\", 0, \"모름\")\n",
    "#print(areum.who)\n",
    "areum.setinfo(\"아름\", 25, \"여자\")\n",
    "#print(areum.setinfo)\n",
    "areum.setinfo"
   ]
  },
  {
   "cell_type": "code",
   "execution_count": null,
   "metadata": {},
   "outputs": [],
   "source": [
    "# Python의 del 키워드는 객체, 변수, 속성 등을 삭제할 때 사용됩니다. \n",
    "# 클래스 내에서 del 키워드를 사용하면 인스턴스 변수나 클래스 변수를 삭제할 수 있습니다. \n",
    "# 이를 통해 메모리 관리나 불필요한 속성을 제거하는 데 유용합니다."
   ]
  },
  {
   "cell_type": "code",
   "execution_count": 29,
   "metadata": {},
   "outputs": [
    {
     "name": "stdout",
     "output_type": "stream",
     "text": [
      "나의 죽음을 알리지 마라\n"
     ]
    }
   ],
   "source": [
    "# 259\n",
    "\n",
    "# __del__ 메소드는 Python의 소멸자(destructor) 메소드로, 객체가 메모리에서 해제될 때 자동으로 호출됩니다. \n",
    "# 이는 객체가 더 이상 참조되지 않아서 가비지 컬렉터에 의해 제거될 때 실행됩니다. \n",
    "\n",
    "class Human:\n",
    "    def __init__(self, name, age, gender):\n",
    "        self.name = name\n",
    "        self.age = age\n",
    "        self.gender = gender\n",
    "    \n",
    "    def who(self):  # 257 # who 매소드 추가\n",
    "        print(\"이름: {} 나이: {} 성별: {}\".format(self.name, self.age, self.gender))\n",
    "\n",
    "    def setinfo(self, name, age, gender): # 258\n",
    "        self.name = name\n",
    "        self.age = age\n",
    "        self.gender = gender\n",
    "\n",
    "    def __del__(self):\n",
    "        print(\"나의 죽음을 알리지 마라\")\n",
    "\n",
    "areum = Human(\"아름\",25, \"여자\")\n",
    "del(areum)"
   ]
  },
  {
   "cell_type": "code",
   "execution_count": null,
   "metadata": {},
   "outputs": [],
   "source": [
    "# 260 # 생성자가 없어서?\n",
    "# 오류가 발생하는 이유는 OMG.print 메소드가 인스턴스 메소드로 정의되지 않았기 때문입니다. \n",
    "# Python에서 클래스 메소드를 정의할 때는 첫 번째 인자로 항상 self를 받아야 합니다.\n",
    "# self는 호출된 인스턴스 자체를 참조하며, 인스턴스 메소드에서 사용됩니다.\n",
    "\n",
    "class OMG : \n",
    "    def print() :\n",
    "        print(\"Oh my god\")\n",
    "\n",
    "myStock = OMG()\n",
    "mystock.print() # OMG.print(myStock)"
   ]
  },
  {
   "cell_type": "code",
   "execution_count": 33,
   "metadata": {},
   "outputs": [
    {
     "name": "stdout",
     "output_type": "stream",
     "text": [
      "Oh my god\n"
     ]
    }
   ],
   "source": [
    "# 260\n",
    "class OMG : \n",
    "    def print(self) : # self 인자 추가\n",
    "        print(\"Oh my god\")\n",
    "\n",
    "mystock = OMG()\n",
    "mystock.print() # OMG.print(myStock)"
   ]
  }
 ],
 "metadata": {
  "kernelspec": {
   "display_name": "base",
   "language": "python",
   "name": "python3"
  },
  "language_info": {
   "codemirror_mode": {
    "name": "ipython",
    "version": 3
   },
   "file_extension": ".py",
   "mimetype": "text/x-python",
   "name": "python",
   "nbconvert_exporter": "python",
   "pygments_lexer": "ipython3",
   "version": "3.11.7"
  }
 },
 "nbformat": 4,
 "nbformat_minor": 2
}
