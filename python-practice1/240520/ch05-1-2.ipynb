{
 "cells": [
  {
   "cell_type": "code",
   "execution_count": 2,
   "metadata": {},
   "outputs": [],
   "source": [
    "# Python 클래스의 상속\n",
    "class Fourcal():\n",
    "    # 매소드 들의 생성 순서는 상관이 없다.\n",
    "    def __init__(self, first, second):\n",
    "        self.first = first\n",
    "        self.second = second\n",
    "\n",
    "    def setdata(self, first, second):\n",
    "        self.first = first          # java script 의 this와 비슷\n",
    "        self.second = second\n",
    "\n",
    "    def add(self):\n",
    "        result =  self.first + self.second\n",
    "        return result\n",
    "\n",
    "    def sub(self):\n",
    "        result =  self.first - self.second\n",
    "        return result\n",
    "    \n",
    "    def mul(self):\n",
    "        result =  self.first * self.second\n",
    "        return result\n",
    "    \n",
    "    def div(self):\n",
    "        result =  self.first / self.second\n",
    "        return result\n",
    "\n",
    "class Morefourcal(Fourcal):\n",
    "    pass"
   ]
  },
  {
   "cell_type": "code",
   "execution_count": 6,
   "metadata": {},
   "outputs": [
    {
     "name": "stdout",
     "output_type": "stream",
     "text": [
      "6\n",
      "8\n",
      "2\n",
      "2.0\n"
     ]
    }
   ],
   "source": [
    "a = Morefourcal(4, 2)\n",
    "print(a.add())\n",
    "print(a.mul())\n",
    "print(a.sub())\n",
    "print(a.div())"
   ]
  },
  {
   "cell_type": "code",
   "execution_count": 12,
   "metadata": {},
   "outputs": [
    {
     "name": "stdout",
     "output_type": "stream",
     "text": [
      "64\n",
      "7\n"
     ]
    }
   ],
   "source": [
    "# 상속한 클래스의 함수 생성하기\n",
    "class Morefourcal(Fourcal):\n",
    "    def pow(self):   # 상속받은 새로운 함수 **\n",
    "        result = self.first ** self.second\n",
    "        return result\n",
    "\n",
    "a = Morefourcal(4, 3)\n",
    "print(a.pow()) # 4 의 3승\n",
    "print(a.add()) # 4 + 3"
   ]
  },
  {
   "cell_type": "code",
   "execution_count": 2,
   "metadata": {},
   "outputs": [
    {
     "ename": "NameError",
     "evalue": "name 'Fourcal' is not defined",
     "output_type": "error",
     "traceback": [
      "\u001b[1;31m---------------------------------------------------------------------------\u001b[0m",
      "\u001b[1;31mNameError\u001b[0m                                 Traceback (most recent call last)",
      "Cell \u001b[1;32mIn[2], line 2\u001b[0m\n\u001b[0;32m      1\u001b[0m \u001b[38;5;66;03m# 클래스 안의 매소드(함수) 오버라이딩\u001b[39;00m\n\u001b[1;32m----> 2\u001b[0m a \u001b[38;5;241m=\u001b[39m Fourcal(\u001b[38;5;241m4\u001b[39m, \u001b[38;5;241m0\u001b[39m)\n\u001b[0;32m      3\u001b[0m a\u001b[38;5;241m.\u001b[39mdiv()\n",
      "\u001b[1;31mNameError\u001b[0m: name 'Fourcal' is not defined"
     ]
    }
   ],
   "source": [
    "# 클래스 안의 매소드(함수) 오버라이딩\n",
    "a = Fourcal(4, 0)\n",
    "a.div()\n"
   ]
  },
  {
   "cell_type": "code",
   "execution_count": 18,
   "metadata": {},
   "outputs": [
    {
     "data": {
      "text/plain": [
       "0"
      ]
     },
     "execution_count": 18,
     "metadata": {},
     "output_type": "execute_result"
    }
   ],
   "source": [
    "# 오우버라이딍\n",
    "class SafeFourcal(Fourcal):\n",
    "    def div(self): # Fourcal에 있는 div 메소드가 없어지고 현재 만들어둔 \n",
    "        if self.second == 0:  # 나누는 값이 0인 경우 0을 리턴하도록 수  return 0\n",
    "            return 0\n",
    "        else:\n",
    "            return self.first / self.second\n",
    "\n",
    "a= SafeFourcal(4, 0)\n",
    "a.div()"
   ]
  },
  {
   "cell_type": "code",
   "execution_count": 21,
   "metadata": {},
   "outputs": [
    {
     "name": "stdout",
     "output_type": "stream",
     "text": [
      "김\n",
      "김\n",
      "김\n"
     ]
    }
   ],
   "source": [
    "# 클래스 변수\n",
    "class Family: # 클래스명\n",
    "    lastname = \"김\" # 클래스 변수\n",
    "# 클래스 툴\n",
    "\n",
    "print(Family.lastname) #클래스.변수\n",
    "\n",
    "a = Family()\n",
    "b = Family()\n",
    "\n",
    "print(a.lastname)\n",
    "print(b.lastname)"
   ]
  },
  {
   "cell_type": "code",
   "execution_count": 22,
   "metadata": {},
   "outputs": [
    {
     "name": "stdout",
     "output_type": "stream",
     "text": [
      "박\n",
      "박\n",
      "박\n"
     ]
    }
   ],
   "source": [
    "Family.lastname = \"박\" # 클래스 변수의 값을 변경\n",
    "print(Family.lastname)\n",
    "\n",
    "print(a.lastname)\n",
    "print(b.lastname)"
   ]
  },
  {
   "cell_type": "code",
   "execution_count": 23,
   "metadata": {},
   "outputs": [
    {
     "name": "stdout",
     "output_type": "stream",
     "text": [
      "최\n",
      "박\n"
     ]
    }
   ],
   "source": [
    "# 객체 변수\n",
    "a.lastname = \"최\" # 객체 변수의 값을 변경\n",
    "print(a.lastname)       # 객체 변수의 값을 출력\n",
    "print(Family.lastname)  # 클래스 변수의 값을 출력 # 부모(의 값)는 바뀌지 않음"
   ]
  }
 ],
 "metadata": {
  "kernelspec": {
   "display_name": "base",
   "language": "python",
   "name": "python3"
  },
  "language_info": {
   "codemirror_mode": {
    "name": "ipython",
    "version": 3
   },
   "file_extension": ".py",
   "mimetype": "text/x-python",
   "name": "python",
   "nbconvert_exporter": "python",
   "pygments_lexer": "ipython3",
   "version": "3.11.7"
  }
 },
 "nbformat": 4,
 "nbformat_minor": 2
}
