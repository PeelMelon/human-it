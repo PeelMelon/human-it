{
 "cells": [
  {
   "cell_type": "code",
   "execution_count": 4,
   "metadata": {},
   "outputs": [
    {
     "name": "stdout",
     "output_type": "stream",
     "text": [
      "7\n",
      "2\n"
     ]
    }
   ],
   "source": [
    "# 파이썬의 모듈\n",
    "import mod1 # 같은 디렉토리의 mod1.py라는  # 방금 만든 mod 1 함수를 불러옴\n",
    "\n",
    "print(mod1.add(3, 4))\n",
    "print(mod1.sub(4, 2))"
   ]
  },
  {
   "cell_type": "code",
   "execution_count": 6,
   "metadata": {},
   "outputs": [
    {
     "name": "stdout",
     "output_type": "stream",
     "text": [
      "7\n",
      "-1\n"
     ]
    }
   ],
   "source": [
    "from mod1 import add, sub\n",
    "\n",
    "print(add(3, 4)) # 3 + 4 = 7\n",
    "print(sub(3, 4)) # 3 - 4 = -1"
   ]
  },
  {
   "cell_type": "code",
   "execution_count": null,
   "metadata": {},
   "outputs": [],
   "source": [
    "from mod1 import * # mod1.py에 있는 모든 함수를 가져오기\n"
   ]
  },
  {
   "cell_type": "code",
   "execution_count": 12,
   "metadata": {},
   "outputs": [
    {
     "name": "stdout",
     "output_type": "stream",
     "text": [
      "3.141592\n",
      "12.566368\n",
      "7.5415920000000005\n"
     ]
    }
   ],
   "source": [
    "import mod2\n",
    "\n",
    "print(mod2.PI) # 변수 호출\n",
    "\n",
    "a = mod2.Math() # 클래스 호출\n",
    "print(a.solve(2))\n",
    "\n",
    "print(mod2.add(mod2.PI, 4.4)) # 함수 호출"
   ]
  },
  {
   "cell_type": "code",
   "execution_count": 13,
   "metadata": {},
   "outputs": [
    {
     "data": {
      "text/plain": [
       "['c:\\\\Users\\\\human-19\\\\Python-practice1\\\\240520',\n",
       " 'c:\\\\Users\\\\human-19\\\\AppData\\\\Local\\\\anaconda3\\\\python311.zip',\n",
       " 'c:\\\\Users\\\\human-19\\\\AppData\\\\Local\\\\anaconda3\\\\DLLs',\n",
       " 'c:\\\\Users\\\\human-19\\\\AppData\\\\Local\\\\anaconda3\\\\Lib',\n",
       " 'c:\\\\Users\\\\human-19\\\\AppData\\\\Local\\\\anaconda3',\n",
       " '',\n",
       " 'c:\\\\Users\\\\human-19\\\\AppData\\\\Local\\\\anaconda3\\\\Lib\\\\site-packages',\n",
       " 'c:\\\\Users\\\\human-19\\\\AppData\\\\Local\\\\anaconda3\\\\Lib\\\\site-packages\\\\win32',\n",
       " 'c:\\\\Users\\\\human-19\\\\AppData\\\\Local\\\\anaconda3\\\\Lib\\\\site-packages\\\\win32\\\\lib',\n",
       " 'c:\\\\Users\\\\human-19\\\\AppData\\\\Local\\\\anaconda3\\\\Lib\\\\site-packages\\\\Pythonwin']"
      ]
     },
     "execution_count": 13,
     "metadata": {},
     "output_type": "execute_result"
    }
   ],
   "source": [
    "# 다른 티렉터리에 있는 모듈을 불러오는 방법 1\n",
    "import sys\n",
    "\n",
    "# C:\\Users\\human-19\\Python-practice1\\240520\n",
    "sys.path.append(\"C:/Users/human-19/Python-practice1\") # mod2.py 모듈 파일은 위의 디렉터로에 있어서 세팅\n",
    "sys.path\n",
    "\n"
   ]
  },
  {
   "cell_type": "code",
   "execution_count": 14,
   "metadata": {},
   "outputs": [
    {
     "name": "stdout",
     "output_type": "stream",
     "text": [
      "7\n"
     ]
    }
   ],
   "source": [
    "import mod2 # 다른디렉토리에 있는 mod2의 함수를 실행\n",
    "print(mod2.add(3, 4))"
   ]
  },
  {
   "cell_type": "code",
   "execution_count": null,
   "metadata": {},
   "outputs": [],
   "source": []
  }
 ],
 "metadata": {
  "kernelspec": {
   "display_name": "base",
   "language": "python",
   "name": "python3"
  },
  "language_info": {
   "codemirror_mode": {
    "name": "ipython",
    "version": 3
   },
   "file_extension": ".py",
   "mimetype": "text/x-python",
   "name": "python",
   "nbconvert_exporter": "python",
   "pygments_lexer": "ipython3",
   "version": "3.11.7"
  }
 },
 "nbformat": 4,
 "nbformat_minor": 2
}
