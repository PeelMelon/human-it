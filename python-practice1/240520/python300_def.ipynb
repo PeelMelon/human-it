{
 "cells": [
  {
   "cell_type": "code",
   "execution_count": 4,
   "metadata": {},
   "outputs": [
    {
     "name": "stdout",
     "output_type": "stream",
     "text": [
      "비트코인\n"
     ]
    }
   ],
   "source": [
    "# 201   # \"비트코인\" 문자열을 화면에 출력하는 print_coin() 함수를 정의하라.\n",
    "def print_coin():\n",
    "    print(\"비트코인\")\n",
    "\n",
    "# 주어진 코드에서는 함수 print_coin을 정의했지만, 함수를 호출하지 않았기 때문에\n",
    "# \"비트코인\" 문자열이 출력되지 않습니다. Python에서는 함수를 정의한 후, \n",
    "# 해당 함수를 호출해야 함수의 내용이 실행됩니다.\n",
    "print_coin() #201\n",
    "\n",
    "# 함수 정의: 함수는 def 키워드를 사용하여 정의하며, 함수 이름 뒤에 괄호 ()를 붙입니다. \n",
    "# 괄호 안에는 매개변수(파라미터)를 정의할 수 있으며, 이 예제에서는 매개변수가 없습니다.\n",
    "\n",
    "# 함수 본문: 함수 본문은 들여쓰기로 구분되며, 함수가 호출되었을 때 실행될 코드를 포함합니다.\n",
    "\n",
    "# 함수 호출: 함수를 호출하면 함수 본문에 정의된 코드가 실행됩니다. \n",
    "# 이 예제에서는 print_coin()을 호출하여 print(\"비트코인\")이 실행됩니다."
   ]
  },
  {
   "cell_type": "code",
   "execution_count": 3,
   "metadata": {},
   "outputs": [
    {
     "name": "stdout",
     "output_type": "stream",
     "text": [
      "7\n"
     ]
    }
   ],
   "source": [
    "def add(a, b):\n",
    "    return a+b\n",
    "a = 3\n",
    "b = 4\n",
    "c = add(a, b)\n",
    "print(c)"
   ]
  },
  {
   "cell_type": "code",
   "execution_count": 7,
   "metadata": {},
   "outputs": [
    {
     "name": "stdout",
     "output_type": "stream",
     "text": [
      "비트코인\n",
      "비트코인\n",
      "비트코인\n",
      "비트코인\n",
      "비트코인\n",
      "비트코인\n",
      "비트코인\n",
      "비트코인\n",
      "비트코인\n",
      "비트코인\n"
     ]
    }
   ],
   "source": [
    "# 203\n",
    "def print_coin():\n",
    "    print(\"비트코인\")\n",
    "for i in range(10):\n",
    "    print_coin()\n"
   ]
  },
  {
   "cell_type": "code",
   "execution_count": 9,
   "metadata": {},
   "outputs": [],
   "source": [
    "# 204\n",
    "def print_coin():\n",
    "    for i in range(10):\n",
    "        print(\"비트코인\")"
   ]
  },
  {
   "cell_type": "code",
   "execution_count": null,
   "metadata": {},
   "outputs": [],
   "source": [
    "# 205 # 첫번째 hello 괄호가 필요가 없음, 정의 되지 않았음\n",
    "hello()\n",
    "def hello():\n",
    "    print(\"Hi\")\n"
   ]
  },
  {
   "cell_type": "code",
   "execution_count": 11,
   "metadata": {},
   "outputs": [
    {
     "name": "stdout",
     "output_type": "stream",
     "text": [
      "Hi\n"
     ]
    }
   ],
   "source": [
    "def hello(): # 205답?\n",
    "    print(\"Hi\")\n",
    "hello()"
   ]
  },
  {
   "cell_type": "code",
   "execution_count": 12,
   "metadata": {},
   "outputs": [
    {
     "name": "stdout",
     "output_type": "stream",
     "text": [
      "A\n",
      "B\n",
      "C\n",
      "A\n",
      "B\n"
     ]
    }
   ],
   "source": [
    "# 206 # 실행결과 예측\n",
    "def message():\n",
    "    print(\"A\")\n",
    "    print(\"B\")\n",
    "\n",
    "message()   # A, B\n",
    "print(\"C\")  # C\n",
    "message()   # A, B"
   ]
  },
  {
   "cell_type": "code",
   "execution_count": 13,
   "metadata": {},
   "outputs": [
    {
     "name": "stdout",
     "output_type": "stream",
     "text": [
      "A\n",
      "C\n",
      "B\n"
     ]
    }
   ],
   "source": [
    "# 207 # 실행결과 예측 # o\n",
    "\n",
    "def message() :\n",
    "    print(\"B\")\n",
    "\n",
    "print(\"C\")\n",
    "message()\n",
    "# A\n",
    "# C\n",
    "# B"
   ]
  },
  {
   "cell_type": "code",
   "execution_count": 14,
   "metadata": {},
   "outputs": [
    {
     "name": "stdout",
     "output_type": "stream",
     "text": [
      "A\n",
      "C\n",
      "B\n",
      "E\n",
      "D\n"
     ]
    }
   ],
   "source": [
    "# 208 # 예측3 #o\n",
    "print(\"A\")\n",
    "def message1():\n",
    "    print(\"B\")\n",
    "print(\"C\")\n",
    "def message2():\n",
    "    print(\"D\")\n",
    "\n",
    "message1()\n",
    "print(\"E\")\n",
    "message2()\n",
    "# A\n",
    "# C\n",
    "# B\n",
    "# E\n",
    "# D"
   ]
  },
  {
   "cell_type": "code",
   "execution_count": 15,
   "metadata": {},
   "outputs": [
    {
     "name": "stdout",
     "output_type": "stream",
     "text": [
      "B\n",
      "A\n"
     ]
    }
   ],
   "source": [
    "# 209\n",
    "def message1():\n",
    "    print(\"A\")\n",
    "\n",
    "def message2():\n",
    "    print(\"B\")\n",
    "    message1()\n",
    "\n",
    "message2()\n",
    "# B\n",
    "# A"
   ]
  },
  {
   "cell_type": "code",
   "execution_count": 16,
   "metadata": {},
   "outputs": [
    {
     "name": "stdout",
     "output_type": "stream",
     "text": [
      "B\n",
      "C\n",
      "B\n",
      "C\n",
      "B\n",
      "C\n",
      "A\n"
     ]
    }
   ],
   "source": [
    "# 210\n",
    "def message1():\n",
    "    print(\"A\")\n",
    "\n",
    "def message2():\n",
    "    print(\"B\")\n",
    "\n",
    "def message3():\n",
    "    for i in range (3) :\n",
    "        message2()\n",
    "        print(\"C\")\n",
    "    message1()\n",
    "\n",
    "message3()\n",
    "# C, C, C\n",
    "# B, B\n",
    "# A # 틀림"
   ]
  },
  {
   "cell_type": "code",
   "execution_count": 17,
   "metadata": {},
   "outputs": [
    {
     "name": "stdout",
     "output_type": "stream",
     "text": [
      "안녕\n",
      "Hi\n"
     ]
    }
   ],
   "source": [
    "# 211 # o\n",
    "def 함수(문자열):\n",
    "    print(문자열)\n",
    "\n",
    "함수(\"안녕\")\n",
    "함수(\"Hi\")\n",
    "# 안녕\n",
    "# Hi"
   ]
  },
  {
   "cell_type": "code",
   "execution_count": 19,
   "metadata": {},
   "outputs": [
    {
     "name": "stdout",
     "output_type": "stream",
     "text": [
      "7\n",
      "15\n"
     ]
    }
   ],
   "source": [
    "# 212\n",
    "def 함수(a, b):\n",
    "    print(a+b)\n",
    "\n",
    "함수(3, 4)\n",
    "함수(7, 8)\n",
    "# 7\n",
    "#15"
   ]
  },
  {
   "cell_type": "code",
   "execution_count": 38,
   "metadata": {},
   "outputs": [
    {
     "ename": "TypeError",
     "evalue": "함수() missing 1 required positional argument: '문자열'",
     "output_type": "error",
     "traceback": [
      "\u001b[1;31m---------------------------------------------------------------------------\u001b[0m",
      "\u001b[1;31mTypeError\u001b[0m                                 Traceback (most recent call last)",
      "Cell \u001b[1;32mIn[38], line 5\u001b[0m\n\u001b[0;32m      3\u001b[0m     \u001b[38;5;28mprint\u001b[39m(문자열)\n\u001b[0;32m      4\u001b[0m \u001b[38;5;66;03m# 매개 변수(입력값)이 없어서 오류가 난다.\u001b[39;00m\n\u001b[1;32m----> 5\u001b[0m 함수()\n",
      "\u001b[1;31mTypeError\u001b[0m: 함수() missing 1 required positional argument: '문자열'"
     ]
    }
   ],
   "source": [
    "# 213 #o\n",
    "def 함수(문자열):\n",
    "    print(문자열)\n",
    "# 매개 변수(입력값)이 없어서 오류가 난다.\n",
    "함수() # 줄을 없애면 정의됨"
   ]
  },
  {
   "cell_type": "code",
   "execution_count": null,
   "metadata": {},
   "outputs": [],
   "source": [
    "# 214 #o\n",
    "def 함수(a, b):\n",
    "    print(a+b)\n",
    "\n",
    "함수(\"안녕\"+ 3)\n",
    "# 문자열과 숫자열이 같이 있기 때문에 오류가 난다."
   ]
  },
  {
   "cell_type": "code",
   "execution_count": null,
   "metadata": {},
   "outputs": [],
   "source": [
    "# 215 # 216\n",
    "def print_with_smile(a5, b5):\n",
    "    print(a5 + b5)\n",
    "    a5 = \"안녕하세요\"\n",
    "    b5 = \":D\"\n",
    "    \n",
    "print_with_smile()\n",
    "\n",
    "# 함수 호출 시 매개변수 누락: print_with_smile() 호출 시 \n",
    "# a5와 b5 매개변수가 전달되지 않았습니다. 함수 정의는 두 개의 매개변수를 요구하지만, \n",
    "# 함수 호출 시 이를 제공하지 않았기 때문에 오류가 발생합니다.\n",
    "\n",
    "# 매개변수의 재정의: 함수 내부에서 a5와 b5를 새로운 값으로 설정하려고 하지만, \n",
    "# 이 설정은 함수가 호출될 때 전달된 인수와는 관계가 없습니다.\n",
    "# 함수 내부에서 a5와 b5를 변경하더라도, 이는 함수 호출 시 인수로 전달된 값을 변경하지 않습니다."
   ]
  },
  {
   "cell_type": "code",
   "execution_count": 41,
   "metadata": {},
   "outputs": [
    {
     "name": "stdout",
     "output_type": "stream",
     "text": [
      "안녕하세요:D\n"
     ]
    }
   ],
   "source": [
    "def print_with_smile(): # 함수 정의: print_with_smile 함수는 매개변수를 받지 않습니다.\n",
    "    a5 = \"안녕하세요\"\n",
    "    b5 = \":D\"\n",
    "    print(a5 + b5) # 함수 내부: a5와 b5를 설정하고, 이를 합쳐서 출력합니다.\n",
    "\n",
    "print_with_smile() # 함수 호출: 매개변수가 필요 없으므로 print_with_smile()를 직접 호출합니다.\n"
   ]
  },
  {
   "cell_type": "code",
   "execution_count": 34,
   "metadata": {},
   "outputs": [
    {
     "name": "stdout",
     "output_type": "stream",
     "text": [
      "안녕하세요:D\n"
     ]
    }
   ],
   "source": [
    "def print_with_smile (string): # 216 답\n",
    "    print (string + \":D\")\n",
    "print_with_smile(\"안녕하세요\")\n",
    "# 이 함수는 string이라는 하나의 매개변수를 받아서, 해당 문자열 뒤에 \":D\"를 붙여 출력 합니다.\n",
    "# 함수 호출 시 \"안녕하세요\"라는 문자열을 전달하여 \"안녕하세요:D\"가 출력됩니다.\n"
   ]
  },
  {
   "cell_type": "code",
   "execution_count": 52,
   "metadata": {},
   "outputs": [
    {
     "name": "stdout",
     "output_type": "stream",
     "text": [
      "5200.0\n"
     ]
    }
   ],
   "source": [
    "# 217\n",
    "def print_upper_price(a7, b7):\n",
    "    return a7 * b7\n",
    "a7 = int(input(\"현재 가격\"))\n",
    "b7 = 1.3\n",
    "result = print_upper_price(a7, b7) # 추가함  # 함수 호출 시 매개변수를 전달\n",
    "print(result) # 추가함\n",
    "# 틀렸고 너무 어렵게 생각한 것 같다. \n",
    "# 추가 및 수정한 코드"
   ]
  },
  {
   "cell_type": "code",
   "execution_count": 47,
   "metadata": {},
   "outputs": [],
   "source": [
    "# 217 정답\n",
    "def print_upper_price(price) :\n",
    "    print(price * 1.3)\n"
   ]
  },
  {
   "cell_type": "code",
   "execution_count": 49,
   "metadata": {},
   "outputs": [],
   "source": [
    "# 218 # o\n",
    "def print_sum(a8, b8):\n",
    "    print(a8 + b8)\n"
   ]
  },
  {
   "cell_type": "code",
   "execution_count": 53,
   "metadata": {},
   "outputs": [
    {
     "name": "stdout",
     "output_type": "stream",
     "text": [
      "9\n"
     ]
    }
   ],
   "source": [
    "# 219 \n",
    "def print_arithmetic_operation(a9, b9):\n",
    "    a9 = 3\n",
    "    b9 = 4\n",
    "    for i in result:\n",
    "        a + b\n",
    "        print\n",
    "        a - b\n",
    "        a * b\n",
    "        a / b\n",
    "\n",
    "print(i)"
   ]
  },
  {
   "cell_type": "code",
   "execution_count": 2,
   "metadata": {},
   "outputs": [],
   "source": [
    "# 219 답\n",
    "def print_arithmetic_operation(a, b):\n",
    "    print(a,'+',b,'=',a+b)\n",
    "    print(a,'-',b,'=',a-b)\n",
    "    print(a,'*',b,'=',a*b)\n",
    "    print(a,'/',b,'=',a/b)"
   ]
  },
  {
   "cell_type": "code",
   "execution_count": null,
   "metadata": {},
   "outputs": [],
   "source": [
    "# 220\n",
    "def print_max(a, b, c):\n",
    "    if a > b :\n",
    "        print(a)\n",
    "    elif a > c :\n",
    "        print(a)\n",
    "    elif b > a :\n",
    "        print(b)\n",
    "    elif b > c :\n",
    "        print(b)\n",
    "    elif c > a :\n",
    "        print(c)\n",
    "    elif c > b :\n",
    "        print(c)"
   ]
  },
  {
   "cell_type": "code",
   "execution_count": null,
   "metadata": {},
   "outputs": [],
   "source": [
    "# 220 답\n",
    "def print_max(a, b, c) :\n",
    "    max_val = 0\n",
    "    if a > max_val :\n",
    "        max_val = a\n",
    "    if b > max_val :\n",
    "        max_val = b\n",
    "    if c > max_val :\n",
    "        max_val = c\n",
    "    print(max_val)"
   ]
  }
 ],
 "metadata": {
  "kernelspec": {
   "display_name": "base",
   "language": "python",
   "name": "python3"
  },
  "language_info": {
   "codemirror_mode": {
    "name": "ipython",
    "version": 3
   },
   "file_extension": ".py",
   "mimetype": "text/x-python",
   "name": "python",
   "nbconvert_exporter": "python",
   "pygments_lexer": "ipython3",
   "version": "3.11.7"
  }
 },
 "nbformat": 4,
 "nbformat_minor": 2
}
