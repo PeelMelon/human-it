{
 "cells": [
  {
   "cell_type": "code",
   "execution_count": 1,
   "metadata": {},
   "outputs": [
    {
     "name": "stdout",
     "output_type": "stream",
     "text": [
      "Jessica Reese MD\n"
     ]
    }
   ],
   "source": [
    "# 외부 라이브러리 Faker 사용해보기\n",
    "# 사전 작업 -> pip install Faker    # 외부 라이브러리 Faker 설치\n",
    "\n",
    "from faker import Faker\n",
    "\n",
    "fake = Faker()\n",
    "print(fake.name())"
   ]
  },
  {
   "cell_type": "code",
   "execution_count": 18,
   "metadata": {},
   "outputs": [
    {
     "name": "stdout",
     "output_type": "stream",
     "text": [
      "이영진\n",
      "대전광역시 동작구 잠실길\n"
     ]
    }
   ],
   "source": [
    "fake = Faker('ko-KR')\n",
    "print(fake.name())\n",
    "print(fake.address())"
   ]
  },
  {
   "cell_type": "code",
   "execution_count": 20,
   "metadata": {},
   "outputs": [
    {
     "data": {
      "text/plain": [
       "[('이정훈', '충청남도 홍성군 테헤란로'),\n",
       " ('김정호', '경상북도 태안군 영동대74거리'),\n",
       " ('김서현', '경상북도 동해시 강남대길'),\n",
       " ('권경수', '울산광역시 서구 영동대길'),\n",
       " ('최정식', '제주특별자치도 원주시 영동대7거리'),\n",
       " ('강현우', '대전광역시 서초구 가락가 (영숙안구면)'),\n",
       " ('김서준', '충청북도 동해시 도산대547길'),\n",
       " ('오진우', '충청남도 의정부시 삼성가'),\n",
       " ('김정호', '대전광역시 강동구 가락가'),\n",
       " ('권경숙', '제주특별자치도 홍성군 언주322길')]"
      ]
     },
     "execution_count": 20,
     "metadata": {},
     "output_type": "execute_result"
    }
   ],
   "source": [
    "test_data = [(fake.name(), fake.address()) for i in range(10)]\n",
    "test_data"
   ]
  }
 ],
 "metadata": {
  "kernelspec": {
   "display_name": "base",
   "language": "python",
   "name": "python3"
  },
  "language_info": {
   "codemirror_mode": {
    "name": "ipython",
    "version": 3
   },
   "file_extension": ".py",
   "mimetype": "text/x-python",
   "name": "python",
   "nbconvert_exporter": "python",
   "pygments_lexer": "ipython3",
   "version": "3.11.7"
  }
 },
 "nbformat": 4,
 "nbformat_minor": 2
}
